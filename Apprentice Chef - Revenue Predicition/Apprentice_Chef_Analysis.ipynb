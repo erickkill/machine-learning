{
 "cells": [
  {
   "cell_type": "markdown",
   "metadata": {},
   "source": [
    "# Apprentice Chef Case Study - Revenue Prediction\n",
    "\n",
    "    Owner: Jason Lee\n",
    "    Date: March 7, 2020\n",
    "    Topic: Machine Learning\n",
    "\n",
    "## Company Information\n",
    " \n",
    "Apprentice Chef, Inc. is an innovative company with a unique spin on cooking at home. Developed for the busy professional that has little to no skills in the kitchen, they offer a wide selection of daily-prepared gourmet meals delivered directly to your door.\n",
    "\n",
    "Each meal set takes at most 30 minutes to finish cooking at home and also comes with Apprentice Chef's award- winning disposable cookware (i.e. pots, pans, baking trays, and utensils), allowing for fast and easy cleanup. Ordering meals is very easy given their user-friendly online platform and mobile app. \n",
    "\n",
    "## Objective\n",
    "After three years serving customers across the San Francisco Bay Area, the executives at Apprentice Chef have come to realize that over 90% of their revenue comes from customers that have been ordering meal sets for 12 months or less.\n",
    "\n",
    "Given this information, they would like to better understand how much revenue to expect from each customer within their first year of orders. Thus, they have hired you on a full-time contract to analyze their data, develop your top insights, and build a machine learning model to predict revenue over the first year of each customer’s life cycle. \n",
    "\n",
    "## Dataset Metadata\n",
    "Column\t|Description|\n",
    ":--|:--|\n",
    "REVENUE\t|Total revenue generated over the first year of a customer's journey|\n",
    "CROSS_SELL_SUCCESS\t|Success of promoting Halfway There (1 = SUCCESS, 0 = FAIL)|\n",
    "NAME|\tFull name of customer (collected upon initial registration)|\n",
    "EMAIL\t|Email of customer (collected upon initial registration)|\n",
    "FIRST_NAME\t|First name of customer (collected upon initial registration)|\n",
    "FAMILY_NAME\t|Last name of customer (collected upon initial registration)|\n",
    "TOTAL_MEALS_ORDERED|\tTotal count of meals ordered per customer account|\n",
    "UNIQUE_MEALS_PURCH|\tCount of unique meal sets ordered per customer account|\n",
    "CONTACTS_W_CUSTOMER_SERVICE\t|Count of times a customer made contact with customer service (phone, chatbot, or email)|\n",
    "PRODUCT_CATEGORIES_VIEWED\t|Total number of meal categories viewed (online and mobile platforms combined)|\n",
    "AVG_TIME_PER_SITE_VISIT\t|Average platform (web or mobile) visit time per customer account|\n",
    "MOBILE_NUMBER|\tCustomer registered with a mobile or landline number (1 = MOBILE, 0 = LANDLINE)|\n",
    "CANCELLATIONS_BEFORE_NOON\t|Number of meals canceled before 12 PM as per cancelation policy|\n",
    "CANCELLATIONS_AFTER_NOON|\tNumber of meals canceled after 3 PM as per cancelation policy|\n",
    "TASTES_AND_PREFERENCES\t|Customer specified their tastes and preferences in their profile|\n",
    "MOBILE_LOGINS|\tCount of logins on the mobile platform (app)|\n",
    "PC_LOGINS|\tCount of logins on the web platform (website)|\n",
    "WEEKLY_PLAN|\tCount of weeks a customer subscribed to the weekly plan|\n",
    "EARLY_DELIVERIES\t|Count of orders that we delivered BEFORE the alloted delivery time|\n",
    "LATE_DELIVERIES\t|Count of orders that we delivered AFTER the alloted delivery time|\n",
    "PACKAGE_LOCKER|\tCustomer's building has a package locker service or package room|\n",
    "REFRIGERATED_LOCKER|\tPackage room has a refrigerated locker|\n",
    "FOLLOWED_RECOMMENDATIONS_PCT\t|Percentage of time a customer followed meal recommendations generated displayed on the web or mobile platform|\n",
    "AVG_PREP_VID_TIME|\tAverage time in seconds a customer watched  instructional videos for meal preparation|\n",
    "LARGEST_ORDER_SIZE\t|Largest number of meals a customer has ordered in a single order|\n",
    "MASTER_CLASSES_ATTENDED|\tCount of times a customer attended master class (learning to cook)|\n",
    "MEDIAN_MEAL_RATING|\tMedian meal satisfaction rating by customer|\n",
    "AVG_CLICKS_PER_VISIT|\tAverage number of clicks per site visit|\n",
    "TOTAL_PHOTOS_VIEWED|\tCount of photos viewed on web and mobile platforms (measured in clicks)|\n",
    "\n",
    "\n",
    "\n",
    "-------------------------------------------\n",
    "\n",
    "## Report Overview\n",
    "\n",
    "    1. Exploration\n",
    "        - Missing values\n",
    "        - Descriptive statistics\n",
    "        - Potential outliers\n",
    "    \n",
    "    2. Feature Engineering\n",
    "        - Logarithm\n",
    "        - Outlier Distribution\n",
    "        - Trend Analysis\n",
    "        - Email Grouping\n",
    "        - Email Dummy Variables\n",
    "        \n",
    "    3. Model Building\n",
    "        I.  Stats Model\n",
    "              - Original Model\n",
    "              - After removing p-values\n",
    "        II. Scikit Learn \n",
    "              - Train/Test Split\n",
    "                  - Using new X Variables\n",
    "              - Ordinary Least Squares (OLS) Regression\n",
    "              - Ridge Regression\n",
    "              - Lasso Regression\n",
    "              - ARD Regression\n",
    "              - Gradient Boosting Regressor\n",
    "              - K Nearest Neighbors\n",
    "                  - Standardized\n",
    "                  - Non Standardized\n",
    "        \n",
    "    4. Model Performance\n",
    "        - Overall Results\n",
    "        \n",
    "    5. Project Overview\n",
    "        - Insights\n",
    "        - Recommendations\n",
    "        \n",
    "    6. Sources"
   ]
  },
  {
   "cell_type": "markdown",
   "metadata": {},
   "source": [
    "-----------------------------------\n",
    "\n",
    "\n",
    "# 1. Exploratory Analysis"
   ]
  },
  {
   "cell_type": "code",
   "execution_count": 1,
   "metadata": {
    "code_folding": [],
    "scrolled": true
   },
   "outputs": [],
   "source": [
    "#data information\n",
    "import pandas as pd\n",
    "import matplotlib.pyplot as plt\n",
    "import seaborn as sns\n",
    "import numpy as np\n",
    "\n",
    "# setting pandas print options\n",
    "pd.set_option('display.max_rows', 500)\n",
    "pd.set_option('display.max_columns', 500)\n",
    "pd.set_option('display.width', 1000)\n",
    "\n",
    "\n",
    "# soft code file name\n",
    "file = \"Apprentice_Chef_Dataset.xlsx\"\n",
    "\n",
    "#dataframe\n",
    "original_df = pd.read_excel(file)"
   ]
  },
  {
   "cell_type": "markdown",
   "metadata": {},
   "source": [
    "### Data Types"
   ]
  },
  {
   "cell_type": "code",
   "execution_count": 2,
   "metadata": {
    "code_folding": []
   },
   "outputs": [],
   "source": [
    "# original_df.info()"
   ]
  },
  {
   "cell_type": "markdown",
   "metadata": {},
   "source": [
    " - Customer information are the only categorical values - NAME, EMAIL, FIRST_NAME, & FAMILY_NAME\n",
    " - Only missing values are related to FAMILY_NAME (47 missing total)\n",
    " \n",
    " __________________________________________________________________________________________________________________________\n",
    "\n",
    "### Missing Values\n",
    "Since FAMILY_NAME is the only one missing values, we can create a missing value column but since there is only 47 values missing it won't make a significant impact. FAMILY_NAME could also be a redundant column since we have the full name. \n",
    "- We can check if there are any large families in the dataset."
   ]
  },
  {
   "cell_type": "code",
   "execution_count": 3,
   "metadata": {
    "code_folding": [
     0
    ]
   },
   "outputs": [],
   "source": [
    "# # looping over columns with missing values\n",
    "# for col in original_df:\n",
    "\n",
    "#     # creating columns with 1s if missing and 0 if not\n",
    "#     if original_df[col].isnull().astype(int).sum() > 0:\n",
    "#         original_df['missing_'+col] = original_df[col].isnull().astype(int)"
   ]
  },
  {
   "cell_type": "code",
   "execution_count": 4,
   "metadata": {
    "code_folding": []
   },
   "outputs": [],
   "source": [
    "# original_df['FAMILY_NAME'].value_counts().head(10)"
   ]
  },
  {
   "cell_type": "markdown",
   "metadata": {},
   "source": [
    "Family Name | Count |\n",
    "---|---|\n",
    "Frey         | 79\n",
    "Stark        | 32\n",
    "Lannister    | 29\n",
    "Tyrell       | 28\n",
    "Targaryen    | 24\n",
    "Targaryen    | 17\n",
    "Greyjoy      | 16\n",
    "Hightower    | 16\n",
    "Florent      | 14\n",
    "Vance        | 14"
   ]
  },
  {
   "cell_type": "markdown",
   "metadata": {},
   "source": [
    "- Despite the there being a handful of families with over 10 members in the family(code above), there are many more families with a single member. \n",
    "- We will proceed to drop the FAMILY_NAME column later on when we build features.\n",
    "\n",
    "-------------------------------------------\n",
    "\n",
    "## Descriptive Statistics"
   ]
  },
  {
   "cell_type": "code",
   "execution_count": 5,
   "metadata": {},
   "outputs": [
    {
     "data": {
      "text/html": [
       "<div>\n",
       "<style scoped>\n",
       "    .dataframe tbody tr th:only-of-type {\n",
       "        vertical-align: middle;\n",
       "    }\n",
       "\n",
       "    .dataframe tbody tr th {\n",
       "        vertical-align: top;\n",
       "    }\n",
       "\n",
       "    .dataframe thead th {\n",
       "        text-align: right;\n",
       "    }\n",
       "</style>\n",
       "<table border=\"1\" class=\"dataframe\">\n",
       "  <thead>\n",
       "    <tr style=\"text-align: right;\">\n",
       "      <th></th>\n",
       "      <th>REVENUE</th>\n",
       "      <th>CROSS_SELL_SUCCESS</th>\n",
       "      <th>TOTAL_MEALS_ORDERED</th>\n",
       "      <th>UNIQUE_MEALS_PURCH</th>\n",
       "      <th>CONTACTS_W_CUSTOMER_SERVICE</th>\n",
       "      <th>PRODUCT_CATEGORIES_VIEWED</th>\n",
       "      <th>AVG_TIME_PER_SITE_VISIT</th>\n",
       "      <th>MOBILE_NUMBER</th>\n",
       "      <th>CANCELLATIONS_BEFORE_NOON</th>\n",
       "      <th>CANCELLATIONS_AFTER_NOON</th>\n",
       "      <th>TASTES_AND_PREFERENCES</th>\n",
       "      <th>PC_LOGINS</th>\n",
       "      <th>MOBILE_LOGINS</th>\n",
       "      <th>WEEKLY_PLAN</th>\n",
       "      <th>EARLY_DELIVERIES</th>\n",
       "      <th>LATE_DELIVERIES</th>\n",
       "      <th>PACKAGE_LOCKER</th>\n",
       "      <th>REFRIGERATED_LOCKER</th>\n",
       "      <th>FOLLOWED_RECOMMENDATIONS_PCT</th>\n",
       "      <th>AVG_PREP_VID_TIME</th>\n",
       "      <th>LARGEST_ORDER_SIZE</th>\n",
       "      <th>MASTER_CLASSES_ATTENDED</th>\n",
       "      <th>MEDIAN_MEAL_RATING</th>\n",
       "      <th>AVG_CLICKS_PER_VISIT</th>\n",
       "      <th>TOTAL_PHOTOS_VIEWED</th>\n",
       "    </tr>\n",
       "  </thead>\n",
       "  <tbody>\n",
       "    <tr>\n",
       "      <th>count</th>\n",
       "      <td>1946.00</td>\n",
       "      <td>1946.00</td>\n",
       "      <td>1946.00</td>\n",
       "      <td>1946.0</td>\n",
       "      <td>1946.00</td>\n",
       "      <td>1946.00</td>\n",
       "      <td>1946.00</td>\n",
       "      <td>1946.00</td>\n",
       "      <td>1946.00</td>\n",
       "      <td>1946.00</td>\n",
       "      <td>1946.00</td>\n",
       "      <td>1946.00</td>\n",
       "      <td>1946.00</td>\n",
       "      <td>1946.00</td>\n",
       "      <td>1946.00</td>\n",
       "      <td>1946.00</td>\n",
       "      <td>1946.00</td>\n",
       "      <td>1946.00</td>\n",
       "      <td>1946.00</td>\n",
       "      <td>1946.00</td>\n",
       "      <td>1946.00</td>\n",
       "      <td>1946.00</td>\n",
       "      <td>1946.00</td>\n",
       "      <td>1946.00</td>\n",
       "      <td>1946.00</td>\n",
       "    </tr>\n",
       "    <tr>\n",
       "      <th>mean</th>\n",
       "      <td>2107.29</td>\n",
       "      <td>0.68</td>\n",
       "      <td>74.63</td>\n",
       "      <td>4.9</td>\n",
       "      <td>6.98</td>\n",
       "      <td>5.38</td>\n",
       "      <td>99.60</td>\n",
       "      <td>0.88</td>\n",
       "      <td>1.40</td>\n",
       "      <td>0.17</td>\n",
       "      <td>0.71</td>\n",
       "      <td>5.52</td>\n",
       "      <td>1.48</td>\n",
       "      <td>11.33</td>\n",
       "      <td>1.49</td>\n",
       "      <td>2.97</td>\n",
       "      <td>0.36</td>\n",
       "      <td>0.11</td>\n",
       "      <td>35.41</td>\n",
       "      <td>150.56</td>\n",
       "      <td>4.44</td>\n",
       "      <td>0.60</td>\n",
       "      <td>2.79</td>\n",
       "      <td>13.51</td>\n",
       "      <td>106.43</td>\n",
       "    </tr>\n",
       "    <tr>\n",
       "      <th>std</th>\n",
       "      <td>1138.29</td>\n",
       "      <td>0.47</td>\n",
       "      <td>55.31</td>\n",
       "      <td>2.5</td>\n",
       "      <td>2.28</td>\n",
       "      <td>3.04</td>\n",
       "      <td>62.34</td>\n",
       "      <td>0.33</td>\n",
       "      <td>1.55</td>\n",
       "      <td>0.43</td>\n",
       "      <td>0.45</td>\n",
       "      <td>0.58</td>\n",
       "      <td>0.53</td>\n",
       "      <td>13.57</td>\n",
       "      <td>2.32</td>\n",
       "      <td>2.74</td>\n",
       "      <td>0.48</td>\n",
       "      <td>0.32</td>\n",
       "      <td>26.58</td>\n",
       "      <td>49.45</td>\n",
       "      <td>1.55</td>\n",
       "      <td>0.64</td>\n",
       "      <td>0.76</td>\n",
       "      <td>2.33</td>\n",
       "      <td>181.01</td>\n",
       "    </tr>\n",
       "    <tr>\n",
       "      <th>min</th>\n",
       "      <td>131.00</td>\n",
       "      <td>0.00</td>\n",
       "      <td>11.00</td>\n",
       "      <td>1.0</td>\n",
       "      <td>1.00</td>\n",
       "      <td>1.00</td>\n",
       "      <td>10.33</td>\n",
       "      <td>0.00</td>\n",
       "      <td>0.00</td>\n",
       "      <td>0.00</td>\n",
       "      <td>0.00</td>\n",
       "      <td>4.00</td>\n",
       "      <td>0.00</td>\n",
       "      <td>0.00</td>\n",
       "      <td>0.00</td>\n",
       "      <td>0.00</td>\n",
       "      <td>0.00</td>\n",
       "      <td>0.00</td>\n",
       "      <td>0.00</td>\n",
       "      <td>33.40</td>\n",
       "      <td>0.00</td>\n",
       "      <td>0.00</td>\n",
       "      <td>1.00</td>\n",
       "      <td>5.00</td>\n",
       "      <td>0.00</td>\n",
       "    </tr>\n",
       "    <tr>\n",
       "      <th>25%</th>\n",
       "      <td>1350.00</td>\n",
       "      <td>0.00</td>\n",
       "      <td>39.00</td>\n",
       "      <td>3.0</td>\n",
       "      <td>5.00</td>\n",
       "      <td>3.00</td>\n",
       "      <td>72.00</td>\n",
       "      <td>1.00</td>\n",
       "      <td>0.00</td>\n",
       "      <td>0.00</td>\n",
       "      <td>0.00</td>\n",
       "      <td>5.00</td>\n",
       "      <td>1.00</td>\n",
       "      <td>1.00</td>\n",
       "      <td>0.00</td>\n",
       "      <td>1.00</td>\n",
       "      <td>0.00</td>\n",
       "      <td>0.00</td>\n",
       "      <td>10.00</td>\n",
       "      <td>114.40</td>\n",
       "      <td>3.00</td>\n",
       "      <td>0.00</td>\n",
       "      <td>2.00</td>\n",
       "      <td>12.00</td>\n",
       "      <td>0.00</td>\n",
       "    </tr>\n",
       "    <tr>\n",
       "      <th>50%</th>\n",
       "      <td>1740.00</td>\n",
       "      <td>1.00</td>\n",
       "      <td>60.00</td>\n",
       "      <td>5.0</td>\n",
       "      <td>7.00</td>\n",
       "      <td>5.00</td>\n",
       "      <td>94.16</td>\n",
       "      <td>1.00</td>\n",
       "      <td>1.00</td>\n",
       "      <td>0.00</td>\n",
       "      <td>1.00</td>\n",
       "      <td>6.00</td>\n",
       "      <td>1.00</td>\n",
       "      <td>7.00</td>\n",
       "      <td>0.00</td>\n",
       "      <td>2.00</td>\n",
       "      <td>0.00</td>\n",
       "      <td>0.00</td>\n",
       "      <td>30.00</td>\n",
       "      <td>145.60</td>\n",
       "      <td>4.00</td>\n",
       "      <td>1.00</td>\n",
       "      <td>3.00</td>\n",
       "      <td>13.00</td>\n",
       "      <td>0.00</td>\n",
       "    </tr>\n",
       "    <tr>\n",
       "      <th>75%</th>\n",
       "      <td>2670.00</td>\n",
       "      <td>1.00</td>\n",
       "      <td>95.00</td>\n",
       "      <td>7.0</td>\n",
       "      <td>8.00</td>\n",
       "      <td>8.00</td>\n",
       "      <td>117.29</td>\n",
       "      <td>1.00</td>\n",
       "      <td>2.00</td>\n",
       "      <td>0.00</td>\n",
       "      <td>1.00</td>\n",
       "      <td>6.00</td>\n",
       "      <td>2.00</td>\n",
       "      <td>13.00</td>\n",
       "      <td>3.00</td>\n",
       "      <td>4.00</td>\n",
       "      <td>1.00</td>\n",
       "      <td>0.00</td>\n",
       "      <td>60.00</td>\n",
       "      <td>173.78</td>\n",
       "      <td>5.00</td>\n",
       "      <td>1.00</td>\n",
       "      <td>3.00</td>\n",
       "      <td>15.00</td>\n",
       "      <td>174.00</td>\n",
       "    </tr>\n",
       "    <tr>\n",
       "      <th>max</th>\n",
       "      <td>8793.75</td>\n",
       "      <td>1.00</td>\n",
       "      <td>493.00</td>\n",
       "      <td>19.0</td>\n",
       "      <td>18.00</td>\n",
       "      <td>10.00</td>\n",
       "      <td>1645.60</td>\n",
       "      <td>1.00</td>\n",
       "      <td>13.00</td>\n",
       "      <td>3.00</td>\n",
       "      <td>1.00</td>\n",
       "      <td>7.00</td>\n",
       "      <td>3.00</td>\n",
       "      <td>52.00</td>\n",
       "      <td>9.00</td>\n",
       "      <td>19.00</td>\n",
       "      <td>1.00</td>\n",
       "      <td>1.00</td>\n",
       "      <td>90.00</td>\n",
       "      <td>564.20</td>\n",
       "      <td>11.00</td>\n",
       "      <td>3.00</td>\n",
       "      <td>5.00</td>\n",
       "      <td>19.00</td>\n",
       "      <td>1600.00</td>\n",
       "    </tr>\n",
       "  </tbody>\n",
       "</table>\n",
       "</div>"
      ],
      "text/plain": [
       "       REVENUE  CROSS_SELL_SUCCESS  TOTAL_MEALS_ORDERED  UNIQUE_MEALS_PURCH  CONTACTS_W_CUSTOMER_SERVICE  PRODUCT_CATEGORIES_VIEWED  AVG_TIME_PER_SITE_VISIT  MOBILE_NUMBER  CANCELLATIONS_BEFORE_NOON  CANCELLATIONS_AFTER_NOON  TASTES_AND_PREFERENCES  PC_LOGINS  MOBILE_LOGINS  WEEKLY_PLAN  EARLY_DELIVERIES  LATE_DELIVERIES  PACKAGE_LOCKER  REFRIGERATED_LOCKER  FOLLOWED_RECOMMENDATIONS_PCT  AVG_PREP_VID_TIME  LARGEST_ORDER_SIZE  MASTER_CLASSES_ATTENDED  MEDIAN_MEAL_RATING  AVG_CLICKS_PER_VISIT  TOTAL_PHOTOS_VIEWED\n",
       "count  1946.00             1946.00              1946.00              1946.0                      1946.00                    1946.00                  1946.00        1946.00                    1946.00                   1946.00                 1946.00    1946.00        1946.00      1946.00           1946.00          1946.00         1946.00              1946.00                       1946.00            1946.00             1946.00                  1946.00             1946.00               1946.00              1946.00\n",
       "mean   2107.29                0.68                74.63                 4.9                         6.98                       5.38                    99.60           0.88                       1.40                      0.17                    0.71       5.52           1.48        11.33              1.49             2.97            0.36                 0.11                         35.41             150.56                4.44                     0.60                2.79                 13.51               106.43\n",
       "std    1138.29                0.47                55.31                 2.5                         2.28                       3.04                    62.34           0.33                       1.55                      0.43                    0.45       0.58           0.53        13.57              2.32             2.74            0.48                 0.32                         26.58              49.45                1.55                     0.64                0.76                  2.33               181.01\n",
       "min     131.00                0.00                11.00                 1.0                         1.00                       1.00                    10.33           0.00                       0.00                      0.00                    0.00       4.00           0.00         0.00              0.00             0.00            0.00                 0.00                          0.00              33.40                0.00                     0.00                1.00                  5.00                 0.00\n",
       "25%    1350.00                0.00                39.00                 3.0                         5.00                       3.00                    72.00           1.00                       0.00                      0.00                    0.00       5.00           1.00         1.00              0.00             1.00            0.00                 0.00                         10.00             114.40                3.00                     0.00                2.00                 12.00                 0.00\n",
       "50%    1740.00                1.00                60.00                 5.0                         7.00                       5.00                    94.16           1.00                       1.00                      0.00                    1.00       6.00           1.00         7.00              0.00             2.00            0.00                 0.00                         30.00             145.60                4.00                     1.00                3.00                 13.00                 0.00\n",
       "75%    2670.00                1.00                95.00                 7.0                         8.00                       8.00                   117.29           1.00                       2.00                      0.00                    1.00       6.00           2.00        13.00              3.00             4.00            1.00                 0.00                         60.00             173.78                5.00                     1.00                3.00                 15.00               174.00\n",
       "max    8793.75                1.00               493.00                19.0                        18.00                      10.00                  1645.60           1.00                      13.00                      3.00                    1.00       7.00           3.00        52.00              9.00            19.00            1.00                 1.00                         90.00             564.20               11.00                     3.00                5.00                 19.00              1600.00"
      ]
     },
     "execution_count": 5,
     "metadata": {},
     "output_type": "execute_result"
    }
   ],
   "source": [
    "# descriptive statistics\n",
    "original_df.describe().round(2)"
   ]
  },
  {
   "cell_type": "markdown",
   "metadata": {
    "code_folding": []
   },
   "source": [
    "### Overview\n",
    "\n",
    "  - Possible binary options - CROSS_SELL_SUCCESS, MOBILE_NUMBER, TASTES_AND_PREFERENCES, PACKAGE_LOCKER, REFRIGERATED_LOCKER\n",
    "  - max REVENUE is significantly higher that mean and median values - 8793.75\n",
    "  - TOTAL_MEALS_ORDERED - almost 500 orders for a single customer - 493\n",
    "  - AVG_TIME_PER_SITE_VISIT, one customer visits the site 1645.60\n",
    "  - WEEKLY_PLAN, a customer orders 52 meals a week - interesting, normally 3 meals a day on average = 28 meals a week.\n",
    "  - AVG_PREP_VID_TIME, max time a customer watches videos is 564.20 - abnormal compared to others.\n",
    "  - TOTAL_PHOTOS_VIEWED, very active customer viewing photos - 1600\n",
    "\n",
    "Looking at all these numbers is clear that there is a lot of suspicious MAX values for a variety of columns, which will be worth checking if they belong to the same individual or multiple.\n",
    "\n",
    "### Checking Outliers\n",
    "To get a better understanding on the users, below explores if there are any repetitive users or patterns that are standing out in more than one column."
   ]
  },
  {
   "cell_type": "code",
   "execution_count": 6,
   "metadata": {},
   "outputs": [],
   "source": [
    "# # check max revenue user\n",
    "# print(original_df[original_df[\"REVENUE\"]==8793.75]['NAME'])\n",
    "\n",
    "# # check max orders user\n",
    "# print(original_df[original_df[\"TOTAL_MEALS_ORDERED\"]==493]['NAME'])\n",
    "\n",
    "# # check max orders user\n",
    "# print(original_df[original_df[\"TOTAL_MEALS_ORDERED\"]==493]['NAME'])\n",
    "\n",
    "# # check max weekly plan user\n",
    "# print(original_df[original_df[\"WEEKLY_PLAN\"]==52]['NAME'])\n",
    "\n",
    "# # check max vide watching time user\n",
    "# print(original_df[original_df[\"AVG_PREP_VID_TIME\"]==564.20]['NAME'])\n",
    "\n",
    "# # check max photo viewed time user\n",
    "# print(original_df[original_df[\"TOTAL_PHOTOS_VIEWED\"]==1600]['NAME'])"
   ]
  },
  {
   "cell_type": "markdown",
   "metadata": {},
   "source": [
    "### Overview\n",
    "The results from the analysis above are:\n",
    "\n",
    "    - Leyla Hightower is the user with the highest revenue at $8793\n",
    "    - Steffon Baratheon is the user with the max orders at 493\n",
    "    - Preston Greenfield has spent the most time visit Apprentice Chef with 1645.60 mins\n",
    "    - There are 17 users that all have the maximum weekly plan of 52 meals\n",
    "    - Turnip has spend the most time watching video with 564.20 mins\n",
    "    - Maron Greyjoy has viewed the most photos by a significant amount with 1600 photos viewed.\n",
    "\n",
    "After looking into each abnormal pattern in potential outliers, none of our customers appeared more than once. This tells us there is no overlap in having a single user skewing all the results.\n",
    "\n",
    "\n",
    "Breaking down the dataset, we can see that several customers have high numbers for values that you would assume would positively affect revenue, but it did not. For example, despite the customer with the most orders (493 orders), 52 other customers had more revenue. With this information, it would signal substantial discounts or inconsistent pricing. Similarly, we see the customer with the highest amount of time spent on the website with 2685 minutes, had less revenue than 480 customers (almost 25% of the customer base).\n",
    "\n",
    "\n",
    "Let's explore potential outliers further by graphing the variables and spot any meaning full patterns."
   ]
  },
  {
   "cell_type": "markdown",
   "metadata": {},
   "source": [
    "### Top 200 Customers (Based on Revenue)\n",
    "Below we see a side by side comparison of the top 200 customers based on revenue compared to the rest of th dataset"
   ]
  },
  {
   "cell_type": "code",
   "execution_count": 7,
   "metadata": {
    "code_folding": []
   },
   "outputs": [],
   "source": [
    "# original_df.nlargest(200, 'REVENUE').median()"
   ]
  },
  {
   "cell_type": "markdown",
   "metadata": {},
   "source": [
    "Variable | Median Score (Top 200) | Median (All Customers) |\n",
    "-------------| ----------| ---------------|\n",
    "REVENUE                        | 4500.00 | 1740.00\t\n",
    "TOTAL_MEALS_ORDERED            |  120.00  | 60.00\n",
    "CONTACTS_W_CUSTOMER_SERVICE    |    8.00  | 7.00\n",
    "AVG_TIME_PER_SITE_VISIT        |  122.92  | 94.16\n",
    "CANCELLATIONS_AFTER_NOON        |   0.00  | 1.00\n",
    "AVG_PREP_VID_TIME              |  212.15  | 145.60\t\n",
    "LARGEST_ORDER_SIZE             |    6.00  | 4.00\t\n",
    "MEDIAN_MEAL_RATING             |    4.00  | 3.00\n",
    "TOTAL_PHOTOS_VIEWED            |  300.00  | 0.00\n",
    "\n",
    "We can see that comparing our highest revenue customer with our entire dataset we see that they are performing better in categories based on product engagement and experience."
   ]
  },
  {
   "cell_type": "markdown",
   "metadata": {},
   "source": [
    "# 2. Feature Engineering\n",
    "Our goal is to develop the best model to help predict the amount of revenue a customer will bring into the company in their first year. In order to accomplish this we will need to engineer additional features to help enhance the model's performance. We are given a set amount of data inputs but in order to have a more robust model, we need to develop intuition and strategies for new features.\n",
    "\n",
    "\n",
    "<i> The features in your data will directly influence the predictive models you use and the results you can achieve. </i> (Source: [Brownlee (2019) Machine Learning Mastery](https://machinelearningmastery.com/discover-feature-engineering-how-to-engineer-features-and-how-to-get-good-at-it/))\n",
    "\n",
    "\n",
    "Before developing new features let's breakdown the types of variables we have.\n",
    "\n",
    "\n",
    "BINARY:\n",
    "\n",
    "    - CROSS_SELL_SUCCESS\t\n",
    "    - TASTES_AND_PREFERENCES\n",
    "    - PACKAGE_LOCKER\n",
    "    - REFRIGERATED_LOCKER\n",
    "\n",
    "CATEGORICAL:\n",
    "\n",
    "    - MOBILE_NUMBER\n",
    "    \n",
    "CONTINUOUS OR INTERVAL:\n",
    "\n",
    "    - AVG_TIME_PER_SITE_VISIT\n",
    "    - AVG_PREP_VID_TIME\t\n",
    "\n",
    "COUNT:\n",
    "\n",
    "    - TOTAL_MEALS_ORDERED\n",
    "    - UNIQUE_MEALS_PURCH\n",
    "    - CONTACTS_W_CUSTOMER_SERVICE\n",
    "    - PRODUCT_CATEGORIES_VIEWED\n",
    "    - CANCELLATIONS_BEFORE_NOON\n",
    "    - CANCELLATIONS_AFTER_NOON\n",
    "    - PC_LOGINS\t\n",
    "    - MOBILE_LOGINS\n",
    "    - WEEKLY_PLAN\t\n",
    "    - EARLY_DELIVERIES\t\n",
    "    - LATE_DELIVERIES\n",
    "    - FOLLOWED_RECOMMENDATIONS_PCT\n",
    "    - LARGEST_ORDER_SIZE\n",
    "    - MASTER_CLASSES_ATTENDED         \n",
    "    - MEDIAN_MEAL_RATING\n",
    "    - AVG_CLICKS_PER_VISIT\n",
    "    - TOTAL_PHOTOS_VIEWED\n",
    "    \n",
    "DISCRETE:\n",
    "\n",
    "    - NAME                           \n",
    "    - EMAIL                           \n",
    "    - FIRST_NAME                      \n",
    "    - FAMILY_NAME\n",
    "    "
   ]
  },
  {
   "cell_type": "markdown",
   "metadata": {},
   "source": [
    "The first feature we will develop will be the log of selected variables. The variables selected are based on the type and the value it will have on the final mode. Using log's will transform the values and help produce a more normal distribution amongst the respective variables.\n",
    "\n",
    "------------------------\n",
    "\n",
    "## Feature - Log\n",
    "In this step we will obtain the logs of selected variables. Since most of the variables are all set on different scales and units, using log reduces the possible range and prevents skewness. We get the logs to ensure we have consistent range of measurements and it will add more stability to our model. The benefits of using log include the following:\n",
    "\n",
    "    - Manages skewed data\n",
    "    - Distribution resembles Gaussian\n",
    "    - Decreases effects from outliers\n",
    "    - More robust model\n",
    "    \n",
    "Source: [Ençberoğlu (2019) - Towards Data Science](https://towardsdatascience.com/feature-engineering-for-machine-learning-3a5e293a5114)"
   ]
  },
  {
   "cell_type": "code",
   "execution_count": 8,
   "metadata": {
    "code_folding": []
   },
   "outputs": [],
   "source": [
    "# for loop to get the log of select columns\n",
    "log_list = ['TOTAL_MEALS_ORDERED','UNIQUE_MEALS_PURCH','CONTACTS_W_CUSTOMER_SERVICE',\n",
    "            'PRODUCT_CATEGORIES_VIEWED','AVG_TIME_PER_SITE_VISIT','PC_LOGINS',\n",
    "            'AVG_PREP_VID_TIME','MEDIAN_MEAL_RATING','AVG_CLICKS_PER_VISIT']\n",
    "\n",
    "for column in log_list:\n",
    "    original_df['log_'+ column] = original_df[column].transform(np.log)"
   ]
  },
  {
   "cell_type": "markdown",
   "metadata": {},
   "source": [
    "We now have 9 new columns that will hold their respective log values. The columns will be labeled with \"log_column_name\".\n",
    "\n",
    "Example:\n",
    "\n",
    "        log_PRODUCT_CATEGORIES_VIEWED"
   ]
  },
  {
   "cell_type": "markdown",
   "metadata": {},
   "source": [
    "## Feature - Outlier Detection (Thresholds)\n",
    "As we mentioned earlier there were several customers that flagged some potential outliers in the exploration page. To address this, we can use normal distribution graphs to identify, and use the insights to set threshold boundaries for creating outlier specific features."
   ]
  },
  {
   "cell_type": "code",
   "execution_count": 9,
   "metadata": {
    "code_folding": [
     43
    ]
   },
   "outputs": [
    {
     "data": {
      "image/png": "[encoded data removed]",
      "text/plain": [
       "<Figure size 720x576 with 6 Axes>"
      ]
     },
     "metadata": {
      "needs_background": "light"
     },
     "output_type": "display_data"
    },
    {
     "data": {
      "image/png": "[encoded data removed]",
      "text/plain": [
       "<Figure size 720x576 with 6 Axes>"
      ]
     },
     "metadata": {
      "needs_background": "light"
     },
     "output_type": "display_data"
    },
    {
     "data": {
      "image/png": "[encoded data removed]",
      "text/plain": [
       "<Figure size 720x576 with 6 Axes>"
      ]
     },
     "metadata": {
      "needs_background": "light"
     },
     "output_type": "display_data"
    }
   ],
   "source": [
    "# histograms\n",
    "\n",
    "fig, ax = plt.subplots(figsize = (10, 8))\n",
    "plt.subplot(3, 3, 1)\n",
    "sns.distplot(original_df['TOTAL_MEALS_ORDERED'],\n",
    "             bins  = 'fd',\n",
    "             color = 'orange')\n",
    "plt.xlabel('Total Meals')\n",
    "\n",
    "########################\n",
    "plt.subplot(3, 3, 2)\n",
    "sns.distplot(original_df['UNIQUE_MEALS_PURCH'],\n",
    "             bins  = 'fd',\n",
    "             color = 'r')\n",
    "plt.xlabel('Unique Meals Purchased')\n",
    "\n",
    "########################\n",
    "\n",
    "plt.subplot(3, 3, 3)\n",
    "sns.distplot(original_df['CONTACTS_W_CUSTOMER_SERVICE'],\n",
    "             bins  = 'fd',\n",
    "             color = 'g')\n",
    "plt.xlabel('Customer Service Contact')\n",
    "\n",
    "########################\n",
    "\n",
    "plt.subplot(3, 3, 4)\n",
    "sns.distplot(original_df['PRODUCT_CATEGORIES_VIEWED'],\n",
    "             bins  = 'fd',\n",
    "             color = 'y')\n",
    "plt.xlabel('Product Categories')\n",
    "\n",
    "########################\n",
    "\n",
    "plt.subplot(3, 3, 5)\n",
    "sns.distplot(original_df['AVG_TIME_PER_SITE_VISIT'],\n",
    "             bins  = 'fd',\n",
    "             color = 'orange')\n",
    "plt.xlabel('Avg Time Visit')\n",
    "\n",
    "##########################\n",
    "\n",
    "plt.subplot(3, 3, 6)\n",
    "sns.distplot(original_df['CANCELLATIONS_BEFORE_NOON'],\n",
    "             bins  = 'fd',\n",
    "             color = 'y')\n",
    "plt.xlabel('Before 12pm Cancel')\n",
    "\n",
    "plt.tight_layout()\n",
    "\n",
    "########################\n",
    "########################\n",
    "fig, ax = plt.subplots(figsize = (10, 8))\n",
    "\n",
    "plt.subplot(3, 3, 1)\n",
    "sns.distplot(original_df['CANCELLATIONS_AFTER_NOON'],\n",
    "             bins  = 'fd',\n",
    "             kde   = False,\n",
    "             rug   = True,\n",
    "             color = 'orange')\n",
    "plt.xlabel('After 12pm Cancel')\n",
    "\n",
    "########################\n",
    "\n",
    "plt.subplot(3, 3, 2)\n",
    "sns.distplot(original_df['PC_LOGINS'],\n",
    "             bins  = 'fd',\n",
    "             color = 'g')\n",
    "plt.xlabel('PC Logins')\n",
    "\n",
    "########################\n",
    "\n",
    "plt.subplot(3, 3, 3)\n",
    "sns.distplot(original_df['WEEKLY_PLAN'],\n",
    "             bins = 10,\n",
    "             color = 'orange')\n",
    "plt.xlabel('Weekly Plan')\n",
    "\n",
    "########################\n",
    "\n",
    "plt.subplot(3, 3, 4)\n",
    "sns.distplot(original_df['EARLY_DELIVERIES'],\n",
    "             bins = 'fd',\n",
    "             rug  = True,\n",
    "             color = 'r')\n",
    "plt.xlabel('Early Delivery')\n",
    "\n",
    "########################\n",
    "\n",
    "plt.subplot(3, 3, 5)\n",
    "sns.distplot(original_df['LATE_DELIVERIES'],\n",
    "             bins  = 'fd',\n",
    "             color = 'g')\n",
    "plt.xlabel('Late Delivery')\n",
    "\n",
    "\n",
    "########################\n",
    "\n",
    "plt.subplot(3, 3, 6)\n",
    "sns.distplot(original_df['FOLLOWED_RECOMMENDATIONS_PCT'],\n",
    "             bins  = 'fd',\n",
    "             color = 'g')\n",
    "plt.xlabel('Followed Recommendations')\n",
    "\n",
    "plt.tight_layout()\n",
    "\n",
    "########################\n",
    "########################\n",
    "fig, ax = plt.subplots(figsize = (10, 8))\n",
    "\n",
    "plt.subplot(3, 3, 1)\n",
    "sns.distplot(original_df['AVG_PREP_VID_TIME'],\n",
    "             bins  = 'fd',\n",
    "             color = 'y')\n",
    "plt.xlabel('Avg Prep Video Time')\n",
    "\n",
    "########################\n",
    "\n",
    "plt.subplot(3, 3, 2)\n",
    "sns.distplot(original_df['LARGEST_ORDER_SIZE'],\n",
    "             bins  = 'fd',\n",
    "             color = 'orange')\n",
    "plt.xlabel('Largest Order Size')\n",
    "\n",
    "########################\n",
    "plt.subplot(3, 3, 3)\n",
    "sns.distplot(original_df['MASTER_CLASSES_ATTENDED'],\n",
    "             bins  = 'fd',\n",
    "             color = 'r')\n",
    "plt.xlabel('Master Classes Attened')\n",
    "\n",
    "########################\n",
    "\n",
    "plt.subplot(3, 3, 4)\n",
    "sns.distplot(original_df['MEDIAN_MEAL_RATING'],\n",
    "             bins  = 'fd',\n",
    "             color = 'g')\n",
    "plt.xlabel('Median Meal Rating')\n",
    "\n",
    "########################\n",
    "\n",
    "plt.subplot(3, 3, 5)\n",
    "sns.distplot(original_df['AVG_CLICKS_PER_VISIT'],\n",
    "             bins  = 'fd',\n",
    "             color = 'y')\n",
    "plt.xlabel('Avg Clicks Per Visit')\n",
    "\n",
    "########################\n",
    "\n",
    "plt.subplot(3, 3, 6)\n",
    "sns.distplot(original_df['TOTAL_PHOTOS_VIEWED'],\n",
    "             bins  = 'fd',\n",
    "             color = 'orange')\n",
    "plt.xlabel('Total Photos Video')\n",
    "plt.tight_layout()\n",
    "########################"
   ]
  },
  {
   "cell_type": "markdown",
   "metadata": {},
   "source": [
    "- Looking at each of these graphs, we want to make threshold  minimum and maximum limits for each variable. Below are the threshold limits and reasoning as to why they were set."
   ]
  },
  {
   "cell_type": "code",
   "execution_count": 10,
   "metadata": {
    "code_folding": [],
    "scrolled": true
   },
   "outputs": [],
   "source": [
    "# Setting thresholds for features\n",
    "TOTAL_MEALS_ORDERED_hi           = 150         # we can see a normal distribution if we cut of at this point\n",
    "UNIQUE_MEALS_PURCH_hi            = 8           # we can see a normal distribution if we cut of at this point\n",
    "CONTACTS_W_CUSTOMER_SERVICE_hi   = 9           # we can see a normal distribution if we cut of at this point\n",
    "PRODUCT_CATEGORIES_VIEWED_lo     = 2           # setting this as MIN will exclude outliers\n",
    "PRODUCT_CATEGORIES_VIEWED_hi     = 8           # setting this as MAX will exclude outliers\n",
    "AVG_TIME_PER_SITE_VISIT_hi       = 175         # we can see a normal distribution if we cut of at this point\n",
    "CANCELLATIONS_BEFORE_NOON_hi     = 3           # setting this as MIN will exclude outliers\n",
    "CANCELLATIONS_AFTER_NOON_hi      = 0           # setting this as MIN will exclude outliers\n",
    "PC_LOGINS_lo                     = 5           # setting this as MIN will exclude outliers\n",
    "PC_LOGINS_hi                     = 6           # setting this as MAX will exclude outliers\n",
    "WEEKLY_PLAN_hi                   = 18          # we can see a normal distribution if we cut of at this point\n",
    "EARLY_DELIVERIES_hi              = 2           # we can see a normal distribution if we cut of at this point\n",
    "LATE_DELIVERIES_hi               = 7           # we can see a normal distribution if we cut of at this point\n",
    "AVG_PREP_VID_TIME_hi             = 250         # we can see a normal distribution if we cut of at this point\n",
    "LARGEST_ORDER_SIZE_lo            = 3           # setting this as MIN will exclude outliers\n",
    "LARGEST_ORDER_SIZE_hi            = 6           # setting this as MAX will exclude outliers  \n",
    "MASTER_CLASSES_ATTENDED_hi       = 1           # we can see a normal distribution if we cut of at this point\n",
    "MEDIAN_MEAL_RATING_hi            = 3           # we can see a normal distribution if we cut of at this point\n",
    "AVG_CLICKS_PER_VISIT_lo          = 9           # setting this as MIN will exclude outliers\n",
    "AVG_CLICKS_PER_VISIT_hi          = 17.5        # setting this as MAX will exclude outliers \n",
    "TOTAL_PHOTOS_VIEWED_hi           = 50          # we can see a normal distribution if we cut of at this point"
   ]
  },
  {
   "cell_type": "markdown",
   "metadata": {},
   "source": [
    "Now that we have our thresholds, we can set the parameters for building each new feature. We will focus on creating new features by tagging a number 1, if a variable is greater or less than the thresholds we set earlier. The format for outlier columns will follow the same format as previous example - out_column_name\"\n",
    "\n",
    "Example:\n",
    "\n",
    "    out_TOTAL_MEALS_ORDERED"
   ]
  },
  {
   "cell_type": "code",
   "execution_count": 11,
   "metadata": {
    "code_folding": [
     0
    ],
    "scrolled": true
   },
   "outputs": [],
   "source": [
    "# Feature Engineering (outlier thresholds)\n",
    "###########################################\n",
    "\n",
    "\n",
    "# total meals ordered\n",
    "original_df['out_TOTAL_MEALS_ORDERED'] = 0\n",
    "total_hi = original_df.loc[0:,'out_TOTAL_MEALS_ORDERED'][original_df['TOTAL_MEALS_ORDERED'] > TOTAL_MEALS_ORDERED_hi]\n",
    "\n",
    "original_df['out_TOTAL_MEALS_ORDERED'].replace(to_replace = total_hi,\n",
    "                                value      = 1,\n",
    "                                inplace    = True)\n",
    "\n",
    "# unique meals purchase\n",
    "original_df['out_UNIQUE_MEALS_PURCH'] = 0\n",
    "unique_hi = original_df.loc[0:,\"out_UNIQUE_MEALS_PURCH\"][original_df['UNIQUE_MEALS_PURCH'] > UNIQUE_MEALS_PURCH_hi]\n",
    "\n",
    "original_df['out_UNIQUE_MEALS_PURCH'].replace(to_replace = unique_hi,\n",
    "                                    value = 1,\n",
    "                                    inplace = True)\n",
    "\n",
    "# customer service contacts\n",
    "original_df['out_CONTACTS_W_CUSTOMER_SERVICE'] = 0\n",
    "customer_service_hi = original_df.loc[0:,\"out_CONTACTS_W_CUSTOMER_SERVICE\"][original_df['CONTACTS_W_CUSTOMER_SERVICE'] > CONTACTS_W_CUSTOMER_SERVICE_hi]\n",
    "\n",
    "original_df['out_CONTACTS_W_CUSTOMER_SERVICE'].replace(to_replace = customer_service_hi,\n",
    "                                    value = 1,\n",
    "                                    inplace = True)\n",
    "\n",
    "# product categories viewed\n",
    "original_df['out_PRODUCT_CATEGORIES_VIEWED'] = 0\n",
    "product_hi = original_df.loc[0:,'out_PRODUCT_CATEGORIES_VIEWED'][original_df['PRODUCT_CATEGORIES_VIEWED'] > PRODUCT_CATEGORIES_VIEWED_hi]\n",
    "product_lo = original_df.loc[0:,'out_PRODUCT_CATEGORIES_VIEWED'][original_df['PRODUCT_CATEGORIES_VIEWED'] < PRODUCT_CATEGORIES_VIEWED_lo]\n",
    "\n",
    "original_df['out_PRODUCT_CATEGORIES_VIEWED'].replace(to_replace = product_hi,\n",
    "                                 value      = 1,\n",
    "                                 inplace    = True)\n",
    "\n",
    "original_df['out_PRODUCT_CATEGORIES_VIEWED'].replace(to_replace = product_lo,\n",
    "                                 value      = 1,\n",
    "                                 inplace    = True)\n",
    "\n",
    "\n",
    "# average visit time\n",
    "original_df['out_AVG_TIME_PER_SITE_VISIT'] = 0\n",
    "avg_time_hi = original_df.loc[0:,\"out_AVG_TIME_PER_SITE_VISIT\"][original_df['AVG_TIME_PER_SITE_VISIT'] > AVG_TIME_PER_SITE_VISIT_hi]\n",
    "\n",
    "original_df['out_AVG_TIME_PER_SITE_VISIT'].replace(to_replace = avg_time_hi,\n",
    "                                    value = 1,\n",
    "                                    inplace = True)\n",
    "\n",
    "# before noon cancels\n",
    "original_df['out_CANCELLATIONS_BEFORE_NOON'] = 0\n",
    "before_noon_hi = original_df.loc[0:,\"out_CANCELLATIONS_BEFORE_NOON\"][original_df['CANCELLATIONS_BEFORE_NOON'] > CANCELLATIONS_BEFORE_NOON_hi]\n",
    "\n",
    "original_df['out_CANCELLATIONS_BEFORE_NOON'].replace(to_replace = before_noon_hi,\n",
    "                                    value = 1,\n",
    "                                    inplace = True)\n",
    "\n",
    "# after noon cancels\n",
    "original_df['out_CANCELLATIONS_AFTER_NOON'] = 0\n",
    "after_noon_hi = original_df.loc[0:,\"out_CANCELLATIONS_AFTER_NOON\"][original_df['CANCELLATIONS_AFTER_NOON'] > CANCELLATIONS_AFTER_NOON_hi]\n",
    "\n",
    "original_df['out_CANCELLATIONS_AFTER_NOON'].replace(to_replace = after_noon_hi,\n",
    "                                    value = 1,\n",
    "                                    inplace = True)\n",
    "\n",
    "# product categories viewed\n",
    "original_df['out_PC_LOGINS'] = 0\n",
    "pc_logins_hi = original_df.loc[0:,'out_PC_LOGINS'][original_df['PC_LOGINS'] > PC_LOGINS_hi]\n",
    "pc_logins_lo = original_df.loc[0:,'out_PC_LOGINS'][original_df['PC_LOGINS'] < PC_LOGINS_lo]\n",
    "\n",
    "original_df['out_PC_LOGINS'].replace(to_replace = pc_logins_hi,\n",
    "                                 value      = 1,\n",
    "                                 inplace    = True)\n",
    "\n",
    "original_df['out_PC_LOGINS'].replace(to_replace = pc_logins_lo,\n",
    "                                 value      = 1,\n",
    "                                 inplace    = True)\n",
    "\n",
    "\n",
    "# weekly plan\n",
    "original_df['out_WEEKLY_PLAN'] = 0\n",
    "weekly_hi = original_df.loc[0:,\"out_WEEKLY_PLAN\"][original_df['WEEKLY_PLAN'] > WEEKLY_PLAN_hi]\n",
    "\n",
    "original_df['out_WEEKLY_PLAN'].replace(to_replace = weekly_hi,\n",
    "                                    value = 1,\n",
    "                                    inplace = True)\n",
    "\n",
    "# early delivery\n",
    "original_df['out_EARLY_DELIVERIES'] = 0\n",
    "early_hi = original_df.loc[0:,\"out_EARLY_DELIVERIES\"][original_df['EARLY_DELIVERIES'] > EARLY_DELIVERIES_hi]\n",
    "\n",
    "original_df['out_EARLY_DELIVERIES'].replace(to_replace = early_hi,\n",
    "                                    value = 1,\n",
    "                                    inplace = True)\n",
    "\n",
    "# late delivery\n",
    "original_df['out_LATE_DELIVERIES'] = 0\n",
    "late_hi = original_df.loc[0:,\"out_LATE_DELIVERIES\"][original_df['LATE_DELIVERIES'] > LATE_DELIVERIES_hi]\n",
    "\n",
    "original_df['out_LATE_DELIVERIES'].replace(to_replace = late_hi,\n",
    "                                    value = 1,\n",
    "                                    inplace = True)\n",
    "\n",
    "# avergae video time\n",
    "original_df['out_AVG_PREP_VID_TIME'] = 0\n",
    "avg_video_hi = original_df.loc[0:,\"out_AVG_PREP_VID_TIME\"][original_df['AVG_PREP_VID_TIME'] > AVG_PREP_VID_TIME_hi]\n",
    "\n",
    "original_df['out_AVG_PREP_VID_TIME'].replace(to_replace = avg_video_hi,\n",
    "                                    value = 1,\n",
    "                                    inplace = True)\n",
    "\n",
    "# largest order size\n",
    "original_df['out_LARGEST_ORDER_SIZE'] = 0\n",
    "order_hi = original_df.loc[0:,'out_LARGEST_ORDER_SIZE'][original_df['LARGEST_ORDER_SIZE'] > LARGEST_ORDER_SIZE_hi]\n",
    "order_lo = original_df.loc[0:,'out_LARGEST_ORDER_SIZE'][original_df['LARGEST_ORDER_SIZE'] < LARGEST_ORDER_SIZE_lo]\n",
    "\n",
    "original_df['out_LARGEST_ORDER_SIZE'].replace(to_replace = order_hi,\n",
    "                                 value      = 1,\n",
    "                                 inplace    = True)\n",
    "\n",
    "original_df['out_LARGEST_ORDER_SIZE'].replace(to_replace = order_lo,\n",
    "                                 value      = 1,\n",
    "                                 inplace    = True)\n",
    "\n",
    "\n",
    "# master classess attended\n",
    "original_df['out_MASTER_CLASSES_ATTENDED'] = 0\n",
    "master_hi = original_df.loc[0:,\"out_MASTER_CLASSES_ATTENDED\"][original_df['MASTER_CLASSES_ATTENDED'] > MASTER_CLASSES_ATTENDED_hi]\n",
    "\n",
    "original_df['out_MASTER_CLASSES_ATTENDED'].replace(to_replace = master_hi,\n",
    "                                    value = 1,\n",
    "                                    inplace = True)\n",
    "\n",
    "# meal rating\n",
    "original_df['out_MEDIAN_MEAL_RATING'] = 0\n",
    "rating_hi = original_df.loc[0:,\"out_MEDIAN_MEAL_RATING\"][original_df['MEDIAN_MEAL_RATING'] > MEDIAN_MEAL_RATING_hi]\n",
    "\n",
    "original_df['out_MEDIAN_MEAL_RATING'].replace(to_replace = rating_hi,\n",
    "                                    value = 1,\n",
    "                                    inplace = True)\n",
    "\n",
    "\n",
    "# average clicks per visit\n",
    "original_df['out_AVG_CLICKS_PER_VISIT'] = 0\n",
    "clicks_hi = original_df.loc[0:,'out_AVG_CLICKS_PER_VISIT'][original_df['AVG_CLICKS_PER_VISIT'] > AVG_CLICKS_PER_VISIT_hi]\n",
    "clicks_lo = original_df.loc[0:,'out_AVG_CLICKS_PER_VISIT'][original_df['AVG_CLICKS_PER_VISIT'] < AVG_CLICKS_PER_VISIT_lo]\n",
    "\n",
    "original_df['out_AVG_CLICKS_PER_VISIT'].replace(to_replace = clicks_hi,\n",
    "                                 value      = 1,\n",
    "                                 inplace    = True)\n",
    "\n",
    "original_df['out_AVG_CLICKS_PER_VISIT'].replace(to_replace = clicks_lo,\n",
    "                                 value      = 1,\n",
    "                                 inplace    = True)\n",
    "\n",
    "# total photos viewed\n",
    "original_df['out_TOTAL_PHOTOS_VIEWED'] = 0\n",
    "photos_hi = original_df.loc[0:,\"out_TOTAL_PHOTOS_VIEWED\"][original_df['TOTAL_PHOTOS_VIEWED'] > TOTAL_PHOTOS_VIEWED_hi]\n",
    "\n",
    "original_df['out_TOTAL_PHOTOS_VIEWED'].replace(to_replace = photos_hi,\n",
    "                                    value = 1,\n",
    "                                    inplace = True)\n",
    "\n",
    "\n"
   ]
  },
  {
   "cell_type": "markdown",
   "metadata": {},
   "source": [
    "Before we move onto the next feature stage let's make sure the columns were update correctly."
   ]
  },
  {
   "cell_type": "code",
   "execution_count": 12,
   "metadata": {},
   "outputs": [],
   "source": [
    "# original_df.columns"
   ]
  },
  {
   "cell_type": "markdown",
   "metadata": {},
   "source": [
    "We can see that both the log and outlier columns were updated and are ready for feature engineering. Next we will focus on developing features based on trends from scatter plot analysis."
   ]
  },
  {
   "cell_type": "markdown",
   "metadata": {},
   "source": [
    "-----------------------------------------------------\n",
    "\n",
    "## Feature - Trend Analysis (Thresholds)\n",
    "Using scatter plots will help provide insights on if there are any clusters forming, and if we can identify any patterns outside of outliers. This process will require setting thresholds based on when items seem to be scattering more, or clustering more."
   ]
  },
  {
   "cell_type": "code",
   "execution_count": 13,
   "metadata": {
    "code_folding": [
     0
    ]
   },
   "outputs": [
    {
     "data": {
      "image/png": "[encoded data removed]",
      "text/plain": [
       "<Figure size 720x576 with 6 Axes>"
      ]
     },
     "metadata": {
      "needs_background": "light"
     },
     "output_type": "display_data"
    },
    {
     "data": {
      "image/png": "[encoded data removed]",
      "text/plain": [
       "<Figure size 720x576 with 6 Axes>"
      ]
     },
     "metadata": {
      "needs_background": "light"
     },
     "output_type": "display_data"
    },
    {
     "data": {
      "image/png": "[encoded data removed]",
      "text/plain": [
       "<Figure size 720x576 with 6 Axes>"
      ]
     },
     "metadata": {
      "needs_background": "light"
     },
     "output_type": "display_data"
    }
   ],
   "source": [
    "# scatter plots trend analyssi \n",
    "fig, ax = plt.subplots(figsize = (10, 8))\n",
    "plt.subplot(3, 3, 1)\n",
    "sns.scatterplot(x = original_df['TOTAL_MEALS_ORDERED'],\n",
    "                y = original_df['REVENUE'],\n",
    "                color = 'g')\n",
    "\n",
    "########################\n",
    "\n",
    "plt.subplot(3, 3, 2)\n",
    "sns.scatterplot(x = original_df['UNIQUE_MEALS_PURCH'],\n",
    "                y = original_df['REVENUE'],\n",
    "                color = 'y')\n",
    "\n",
    "########################\n",
    "\n",
    "plt.subplot(3, 3, 3)\n",
    "sns.scatterplot(x = original_df['CONTACTS_W_CUSTOMER_SERVICE'],\n",
    "                y = original_df['REVENUE'],\n",
    "                color = 'orange')\n",
    "\n",
    "########################\n",
    "plt.subplot(3, 3, 4)\n",
    "sns.scatterplot(x = original_df['PRODUCT_CATEGORIES_VIEWED'],\n",
    "                y = original_df['REVENUE'],\n",
    "                color = 'r')\n",
    "\n",
    "#######################\n",
    "plt.subplot(3, 3, 5)\n",
    "sns.scatterplot(x = original_df['AVG_TIME_PER_SITE_VISIT'],\n",
    "                y = original_df['REVENUE'],\n",
    "                color = 'orange')\n",
    "\n",
    "########################\n",
    "plt.subplot(3, 3, 6)\n",
    "sns.scatterplot(x = original_df['CANCELLATIONS_BEFORE_NOON'],\n",
    "                y = original_df['REVENUE'],\n",
    "                color = 'r')\n",
    "\n",
    "plt.tight_layout()\n",
    "\n",
    "########################\n",
    "########################\n",
    "\n",
    "fig, ax = plt.subplots(figsize = (10, 8))\n",
    "plt.subplot(3, 3, 1)\n",
    "sns.scatterplot(x = original_df['CANCELLATIONS_AFTER_NOON'],\n",
    "                y = original_df['REVENUE'],\n",
    "                color = 'g')\n",
    "\n",
    "########################\n",
    "\n",
    "plt.subplot(3, 3, 2)\n",
    "sns.scatterplot(x = original_df['PC_LOGINS'],\n",
    "                y = original_df['REVENUE'],\n",
    "                color = 'y')\n",
    "\n",
    "########################\n",
    "\n",
    "plt.subplot(3, 3, 3)\n",
    "sns.scatterplot(x = original_df['WEEKLY_PLAN'],\n",
    "                y = original_df['REVENUE'],\n",
    "                color = 'orange')\n",
    "\n",
    "########################\n",
    "plt.subplot(3, 3, 4)\n",
    "sns.scatterplot(x = original_df['EARLY_DELIVERIES'],\n",
    "                y = original_df['REVENUE'],\n",
    "                color = 'r')\n",
    "\n",
    "#######################\n",
    "plt.subplot(3, 3, 5)\n",
    "sns.scatterplot(x = original_df['LATE_DELIVERIES'],\n",
    "                y = original_df['REVENUE'],\n",
    "                color = 'orange')\n",
    "\n",
    "########################\n",
    "\n",
    "plt.subplot(3, 3, 6)\n",
    "sns.scatterplot(x = original_df['FOLLOWED_RECOMMENDATIONS_PCT'],\n",
    "                y = original_df['REVENUE'],\n",
    "                color = 'g')\n",
    "\n",
    "plt.tight_layout()\n",
    "\n",
    "########################\n",
    "########################\n",
    "\n",
    "fig, ax = plt.subplots(figsize = (10, 8))\n",
    "plt.subplot(3, 3, 1)\n",
    "sns.scatterplot(x = original_df['AVG_PREP_VID_TIME'],\n",
    "                y = original_df['REVENUE'],\n",
    "                color = 'r')\n",
    "\n",
    "\n",
    "########################\n",
    "\n",
    "plt.subplot(3, 3, 2)\n",
    "sns.scatterplot(x = original_df['LARGEST_ORDER_SIZE'],\n",
    "                y = original_df['REVENUE'],\n",
    "                color = 'g')\n",
    "\n",
    "########################\n",
    "\n",
    "plt.subplot(3, 3, 3)\n",
    "sns.scatterplot(x = original_df['MASTER_CLASSES_ATTENDED'],\n",
    "                y = original_df['REVENUE'],\n",
    "                color = 'y')\n",
    "\n",
    "########################\n",
    "plt.subplot(3, 3, 4)\n",
    "sns.scatterplot(x = original_df['MEDIAN_MEAL_RATING'],\n",
    "                y = original_df['REVENUE'],\n",
    "                color = 'orange')\n",
    "\n",
    "#######################\n",
    "plt.subplot(3, 3, 5)\n",
    "sns.scatterplot(x = original_df['AVG_CLICKS_PER_VISIT'],\n",
    "                y = original_df['REVENUE'],\n",
    "                color = 'r')\n",
    "\n",
    "\n",
    "######################\n",
    "plt.subplot(3, 3, 6)\n",
    "sns.scatterplot(x = original_df['TOTAL_PHOTOS_VIEWED'],\n",
    "                y = original_df['REVENUE'],\n",
    "                color = 'orange')\n",
    "\n",
    "plt.tight_layout()\n",
    "########################"
   ]
  },
  {
   "cell_type": "code",
   "execution_count": 14,
   "metadata": {
    "code_folding": [],
    "scrolled": true
   },
   "outputs": [],
   "source": [
    "# Setting thresholds for features\n",
    "TOTAL_MEALS_ORDERED_hi           = 200        # plots begin to scatter\n",
    "CONTACTS_W_CUSTOMER_SERVICE_hi   = 9          # plots begin to scatter\n",
    "AVG_TIME_PER_SITE_VISIT_hi       = 200        # plots begin to scatter  \n",
    "LATE_DELIVERIES_hi               = 9          # plots begin to scatter\n",
    "AVG_PREP_VID_TIME_hi             = 225        # plots begin to scatter\n",
    "\n",
    "MASTER_CLASSES_ATTENDED_at       = 1          # one inflated\n",
    "UNIQUE_MEALS_PURCH_at            = 0          # zero inflated  \n",
    "CANCELLATIONS_AFTER_NOON_at      = 0          # zero inflated          \n",
    "WEEKLY_PLAN_at                   = 0          # zero inflated  \n",
    "MEDIAN_MEAL_RATING_at            = 3          # three inflated      \n",
    "TOTAL_PHOTOS_VIEWED_at           = 0          # zero inflated                "
   ]
  },
  {
   "cell_type": "markdown",
   "metadata": {},
   "source": [
    "We want to set these threshold to make sure we are accounting for any patterns in our customer's behavior. Making sure we cut any abnormal changes before they can skew our model performance. Following similar steps from previous examples, we will no build new features based on the threshold above - tagging either a 0 or 1 depending if the threshold boundary is met."
   ]
  },
  {
   "cell_type": "code",
   "execution_count": 15,
   "metadata": {
    "code_folding": [],
    "scrolled": true
   },
   "outputs": [],
   "source": [
    "###########################################\n",
    "## Feature Engineering (trends thresholds)\n",
    "###########################################\n",
    "\n",
    "\n",
    "# total meals ordered\n",
    "original_df['tre_TOTAL_MEALS_ORDERED'] = 0\n",
    "total_hi = original_df.loc[0:,'tre_TOTAL_MEALS_ORDERED'][original_df['TOTAL_MEALS_ORDERED'] > TOTAL_MEALS_ORDERED_hi]\n",
    "\n",
    "original_df['tre_TOTAL_MEALS_ORDERED'].replace(to_replace = total_hi,\n",
    "                                value      = 1,\n",
    "                                inplace    = True)\n",
    "\n",
    "# unique meals purchase\n",
    "original_df['tre_UNIQUE_MEALS_PURCH'] = 0\n",
    "unique_hi = original_df.loc[0:,\"tre_UNIQUE_MEALS_PURCH\"][original_df['UNIQUE_MEALS_PURCH'] == UNIQUE_MEALS_PURCH_at]\n",
    "\n",
    "original_df['tre_UNIQUE_MEALS_PURCH'].replace(to_replace = unique_hi,\n",
    "                                    value = 1,\n",
    "                                    inplace = True)\n",
    "\n",
    "# customer service contacts\n",
    "original_df['tre_CONTACTS_W_CUSTOMER_SERVICE'] = 0\n",
    "customer_service_hi = original_df.loc[0:,\"tre_CONTACTS_W_CUSTOMER_SERVICE\"][original_df['CONTACTS_W_CUSTOMER_SERVICE'] > CONTACTS_W_CUSTOMER_SERVICE_hi]\n",
    "\n",
    "original_df['tre_CONTACTS_W_CUSTOMER_SERVICE'].replace(to_replace = customer_service_hi,\n",
    "                                    value = 1,\n",
    "                                    inplace = True)\n",
    "\n",
    "# after noon cancels\n",
    "original_df['tre_CANCELLATIONS_AFTER_NOON'] = 0\n",
    "after_noon_hi = original_df.loc[0:,\"tre_CANCELLATIONS_AFTER_NOON\"][original_df['CANCELLATIONS_AFTER_NOON'] == CANCELLATIONS_AFTER_NOON_at]\n",
    "\n",
    "original_df['tre_CANCELLATIONS_AFTER_NOON'].replace(to_replace = after_noon_hi,\n",
    "                                    value = 1,\n",
    "                                    inplace = True)\n",
    "\n",
    "# weekly plan\n",
    "original_df['tre_WEEKLY_PLAN'] = 0\n",
    "weekly_hi = original_df.loc[0:,\"tre_WEEKLY_PLAN\"][original_df['WEEKLY_PLAN'] == WEEKLY_PLAN_at]\n",
    "\n",
    "original_df['tre_WEEKLY_PLAN'].replace(to_replace = weekly_hi,\n",
    "                                    value = 1,\n",
    "                                    inplace = True)\n",
    "\n",
    "# late delivery\n",
    "original_df['tre_LATE_DELIVERIES'] = 0\n",
    "late_hi = original_df.loc[0:,\"tre_LATE_DELIVERIES\"][original_df['LATE_DELIVERIES'] > LATE_DELIVERIES_hi]\n",
    "\n",
    "original_df['tre_LATE_DELIVERIES'].replace(to_replace = late_hi,\n",
    "                                    value = 1,\n",
    "                                    inplace = True)\n",
    "\n",
    "# avergae video time\n",
    "original_df['tre_AVG_PREP_VID_TIME'] = 0\n",
    "avg_video_hi = original_df.loc[0:,\"tre_AVG_PREP_VID_TIME\"][original_df['AVG_PREP_VID_TIME'] > AVG_PREP_VID_TIME_hi]\n",
    "\n",
    "original_df['tre_AVG_PREP_VID_TIME'].replace(to_replace = avg_video_hi,\n",
    "                                    value = 1,\n",
    "                                    inplace = True)\n",
    "\n",
    "# master classess attended\n",
    "original_df['tre_MASTER_CLASSES_ATTENDED'] = 0\n",
    "master_hi = original_df.loc[0:,\"tre_MASTER_CLASSES_ATTENDED\"][original_df['MASTER_CLASSES_ATTENDED'] == MASTER_CLASSES_ATTENDED_at]\n",
    "\n",
    "original_df['tre_MASTER_CLASSES_ATTENDED'].replace(to_replace = master_hi,\n",
    "                                    value = 1,\n",
    "                                    inplace = True)\n",
    "\n",
    "# meal rating\n",
    "original_df['tre_MEDIAN_MEAL_RATING'] = 0\n",
    "rating_hi = original_df.loc[0:,\"tre_MEDIAN_MEAL_RATING\"][original_df['MEDIAN_MEAL_RATING'] == MEDIAN_MEAL_RATING_at]\n",
    "\n",
    "original_df['tre_MEDIAN_MEAL_RATING'].replace(to_replace = rating_hi,\n",
    "                                    value = 1,\n",
    "                                    inplace = True)\n",
    "\n",
    "# total photos viewed\n",
    "original_df['tre_TOTAL_PHOTOS_VIEWED'] = 0\n",
    "photos_hi = original_df.loc[0:,\"tre_TOTAL_PHOTOS_VIEWED\"][original_df['TOTAL_PHOTOS_VIEWED'] > TOTAL_PHOTOS_VIEWED_at]\n",
    "\n",
    "original_df['tre_TOTAL_PHOTOS_VIEWED'].replace(to_replace = photos_hi,\n",
    "                                    value = 1,\n",
    "                                    inplace = True)"
   ]
  },
  {
   "cell_type": "markdown",
   "metadata": {},
   "source": [
    "The new threshold columns will be tagged with the format \"tre_column_name\"\n",
    "\n",
    "Example:\n",
    "\n",
    "    tre_LATE_DELIVERIES\n",
    "    \n",
    "Let's check the new columns are inputed."
   ]
  },
  {
   "cell_type": "code",
   "execution_count": 16,
   "metadata": {
    "code_folding": []
   },
   "outputs": [],
   "source": [
    "# original_df.columns"
   ]
  },
  {
   "cell_type": "markdown",
   "metadata": {},
   "source": [
    "We can see all the columns have been saved correctly.\n",
    "\n",
    "----------------------------------------------\n",
    "\n",
    "## Feature - Email Grouping\n",
    "The dataset provides us with customer emails, and the types of emails per group. Within the case it states that there are 3 email groups.\n",
    "\n",
    "    1. personal\n",
    "    2. professional\n",
    "    3. junk\n",
    "    \n",
    "To isolate whether or not an email is in this group we will need to split each email from the address and domain name. The goal is to have a single column that categorizes the emails by personal, professional and junk. To obtain this we will need to do the following:\n",
    "\n",
    "    1. split email address\n",
    "    2. group and classify email type\n",
    "    3. create a new column"
   ]
  },
  {
   "cell_type": "code",
   "execution_count": 17,
   "metadata": {
    "code_folding": [],
    "scrolled": true
   },
   "outputs": [],
   "source": [
    "# Splitting emails\n",
    "email_list = []\n",
    "\n",
    "# looping over each email address\n",
    "for index, col in original_df.iterrows():\n",
    "    \n",
    "    # splitting email domain at '@'\n",
    "    email_split = original_df.loc[index, 'EMAIL'].split(sep = \"@\")\n",
    "    \n",
    "    # add for loop results to list\n",
    "    email_list.append(email_split)\n",
    "    \n",
    "# converting into a DataFrame \n",
    "email_df = pd.DataFrame(email_list)\n",
    "\n",
    "# renaming columns\n",
    "email_df.columns = ['name' , 'EMAIL_DOMAIN']\n",
    "\n",
    "# concat email to df\n",
    "original_df = pd.concat([original_df, email_df['EMAIL_DOMAIN']],\n",
    "                   axis = 1)\n",
    "\n",
    "# email domains\n",
    "personal_emails = [ 'gmail.com','protonmail.com', 'yahoo.com', 'msn.com']\n",
    " \n",
    "professional_emails = [ 'amex.com','merck.com', 'mcdonalds.com','cocacola.com','jnj.com','nike.com', 'apple.com',            \n",
    "                        'ibm.com', 'ge.org','dupont.com','microsoft.com','chevron.com','unitedhealth.com',\n",
    "                        'travelers.com', 'exxon.com','boeing.com','verizon.com','mmm.com','pg.com','caterpillar.com',\n",
    "                        'disney.com','walmart.com','visa.com','pfizer.com','jpmorgan.com', 'unitedtech.com',\n",
    "                       'cisco.com','goldmansacs.com','intel.com','homedepot.com']   \n",
    "\n",
    "jumk_emails = ['me.com', 'aol.com','hotmail.com', 'live.com', 'msn.com','passport.com' ]\n",
    "\n",
    "\n",
    "domain_list = []\n",
    "\n",
    "for domain in original_df['EMAIL_DOMAIN']:\n",
    "    \n",
    "    # crete lists for personal\n",
    "    if domain in personal_emails:\n",
    "        domain_list.append(\"personal\") # categorical list\n",
    "        \n",
    "    elif domain in professional_emails:\n",
    "        domain_list.append(\"professional\") # categorical list\n",
    "\n",
    "    elif domain in jumk_emails:\n",
    "        domain_list.append(\"junk\") # categorical list    \n",
    "        \n",
    "    else:\n",
    "        print(domain)\n",
    "\n",
    "# create new series for domain type\n",
    "original_df['DOMAIN_TYPE'] = pd.Series(domain_list)"
   ]
  },
  {
   "cell_type": "markdown",
   "metadata": {},
   "source": [
    "## Feature - Dummy Variables\n",
    "Once we get the grouped emails, we will pass in the get_dummies function. The get dummies will build features based on the groups, by tagging binary variables to them if they meet the conditions. We also dropped the columns we will not be using for the analysis, including:\n",
    "\n",
    "    - NAME\n",
    "    - EMAIL\n",
    "    - FAMILY_NAME\n",
    "    - FIRST_NAME\n",
    "    - EMAIL_DOMAIN (we don't need this since we got the dummies)\n",
    "    - DOMAIN_TYPE  (we don't need this since we got the dummies)"
   ]
  },
  {
   "cell_type": "code",
   "execution_count": 18,
   "metadata": {
    "code_folding": []
   },
   "outputs": [],
   "source": [
    "# one hot emails\n",
    "one_hot_email             = pd.get_dummies(original_df['DOMAIN_TYPE'])\n",
    "\n",
    "# joining codings together\n",
    "original_df = original_df.join([one_hot_email],\n",
    "              sort=False)\n",
    "\n",
    "original_df = original_df.drop(['NAME','EMAIL','FAMILY_NAME', \n",
    "             'FIRST_NAME', 'EMAIL_DOMAIN', 'DOMAIN_TYPE'],\n",
    "             axis = 1)"
   ]
  },
  {
   "cell_type": "markdown",
   "metadata": {},
   "source": [
    "Now we have our email dummy variables we can move forward with saving our features.\n",
    "\n",
    "------------------------------------------------------------------- \n",
    "\n",
    "## Saving Features\n",
    "\n",
    "We have prepared all our features and are prepared to build the model. To ensure we have our results saved we will save the results into an external excel file and inspect the dataframe."
   ]
  },
  {
   "cell_type": "code",
   "execution_count": 19,
   "metadata": {},
   "outputs": [],
   "source": [
    "# original_df.info()"
   ]
  },
  {
   "cell_type": "code",
   "execution_count": 49,
   "metadata": {
    "code_folding": [
     0
    ]
   },
   "outputs": [],
   "source": [
    "# original_df.to_excel('features_apprentice_chef.xlsx',\n",
    "#                  index = False)"
   ]
  },
  {
   "cell_type": "markdown",
   "metadata": {},
   "source": [
    "- Our final output has 65 columns, which is more than double of our original column length.\n",
    "- There are no columns with missing values\n",
    "- We have our 4 main new feature groups\n",
    "    \n",
    "        1. log feature\n",
    "        2. outlier feature\n",
    "        3. threshold feature\n",
    "        4. email feature\n",
    "        \n",
    "Next we can move forward with building the model to be used and determine how well our features perform.\n",
    "\n",
    "# 3. Model Building\n",
    "\n",
    "## Stats Model\n",
    "In this step we will build a model using the statsmodel package. The goal of this is to identify the variables with the highest p-values so we can manually remove them and help optimize the model. If we don't do this step, and we look to build models using scikit learn later, redundant variables will be kept and will slow the model down."
   ]
  },
  {
   "cell_type": "code",
   "execution_count": 21,
   "metadata": {
    "code_folding": [
     0
    ]
   },
   "outputs": [],
   "source": [
    "# import statsmodels.formula.api as smf\n",
    "# from sklearn.model_selection import train_test_split"
   ]
  },
  {
   "cell_type": "markdown",
   "metadata": {},
   "source": [
    "#### Training and Testing Set"
   ]
  },
  {
   "cell_type": "code",
   "execution_count": 22,
   "metadata": {
    "code_folding": [
     0
    ]
   },
   "outputs": [],
   "source": [
    "# # drop remaining categorical variables - creating the features\n",
    "# customer_data = original_df.drop(['REVENUE'], \n",
    "#                          axis = 1)\n",
    "\n",
    "# # drop remaining categorical variables - creating the y variable\n",
    "# customer_target = original_df[\"REVENUE\"].transform(np.log)                       \n",
    "\n",
    "# # preparing training and testing sets\n",
    "# X_train, X_test, y_train, y_test = train_test_split(\n",
    "#             customer_data,\n",
    "#             customer_target,\n",
    "#             test_size = 0.25,\n",
    "#             random_state = 222)"
   ]
  },
  {
   "cell_type": "code",
   "execution_count": 23,
   "metadata": {
    "code_folding": [
     0
    ]
   },
   "outputs": [],
   "source": [
    "# # make explantory variable set\n",
    "# df_explanatory = original_df.copy()\n",
    "\n",
    "\n",
    "# # drop unecessary columns\n",
    "# df_explanatory = original_df.drop('REVENUE', axis = 1)\n",
    "\n",
    "\n",
    "# for val in df_explanatory:\n",
    "#     print(f\"customer_train['{val}'] +\")"
   ]
  },
  {
   "cell_type": "markdown",
   "metadata": {},
   "source": [
    "#### Variables\n",
    "For the first model we will build we will pass in all the variables we were given plus the new features we developed. This will allow us to get an overview of the model without any changes at first."
   ]
  },
  {
   "cell_type": "code",
   "execution_count": 24,
   "metadata": {
    "code_folding": [
     0
    ]
   },
   "outputs": [],
   "source": [
    "# #linear model\n",
    "# customer_train = pd.concat([X_train,y_train], axis = 1)\n",
    "\n",
    "# linear_model = smf.ols(formula = \"\"\"REVENUE ~ \n",
    "#                                     customer_train['CROSS_SELL_SUCCESS'] +\n",
    "#                                     customer_train['TOTAL_MEALS_ORDERED'] +\n",
    "#                                     customer_train['UNIQUE_MEALS_PURCH'] +\n",
    "#                                     customer_train['CONTACTS_W_CUSTOMER_SERVICE'] +\n",
    "#                                     customer_train['PRODUCT_CATEGORIES_VIEWED'] +\n",
    "#                                     customer_train['AVG_TIME_PER_SITE_VISIT'] +\n",
    "#                                     customer_train['MOBILE_NUMBER'] +\n",
    "#                                     customer_train['CANCELLATIONS_BEFORE_NOON'] +\n",
    "#                                     customer_train['CANCELLATIONS_AFTER_NOON'] +\n",
    "#                                     customer_train['TASTES_AND_PREFERENCES'] +\n",
    "#                                     customer_train['PC_LOGINS'] +\n",
    "#                                     customer_train['MOBILE_LOGINS'] +\n",
    "#                                     customer_train['WEEKLY_PLAN'] +\n",
    "#                                     customer_train['EARLY_DELIVERIES'] +\n",
    "#                                     customer_train['LATE_DELIVERIES'] +\n",
    "#                                     customer_train['PACKAGE_LOCKER'] +\n",
    "#                                     customer_train['REFRIGERATED_LOCKER'] +\n",
    "#                                     customer_train['FOLLOWED_RECOMMENDATIONS_PCT'] +\n",
    "#                                     customer_train['AVG_PREP_VID_TIME'] +\n",
    "#                                     customer_train['LARGEST_ORDER_SIZE'] +\n",
    "#                                     customer_train['MASTER_CLASSES_ATTENDED'] +\n",
    "#                                     customer_train['MEDIAN_MEAL_RATING'] +\n",
    "#                                     customer_train['AVG_CLICKS_PER_VISIT'] +\n",
    "#                                     customer_train['TOTAL_PHOTOS_VIEWED'] +\n",
    "#                                     customer_train['log_TOTAL_MEALS_ORDERED'] +\n",
    "#                                     customer_train['log_UNIQUE_MEALS_PURCH'] +\n",
    "#                                     customer_train['log_CONTACTS_W_CUSTOMER_SERVICE'] +\n",
    "#                                     customer_train['log_PRODUCT_CATEGORIES_VIEWED'] +\n",
    "#                                     customer_train['log_AVG_TIME_PER_SITE_VISIT'] +\n",
    "#                                     customer_train['log_PC_LOGINS'] +\n",
    "#                                     customer_train['log_AVG_PREP_VID_TIME'] +\n",
    "#                                     customer_train['log_MEDIAN_MEAL_RATING'] +\n",
    "#                                     customer_train['log_AVG_CLICKS_PER_VISIT'] +\n",
    "#                                     customer_train['out_TOTAL_MEALS_ORDERED'] +\n",
    "#                                     customer_train['out_UNIQUE_MEALS_PURCH'] +\n",
    "#                                     customer_train['out_CONTACTS_W_CUSTOMER_SERVICE'] +\n",
    "#                                     customer_train['out_PRODUCT_CATEGORIES_VIEWED'] +\n",
    "#                                     customer_train['out_AVG_TIME_PER_SITE_VISIT'] +\n",
    "#                                     customer_train['out_CANCELLATIONS_BEFORE_NOON'] +\n",
    "#                                     customer_train['out_CANCELLATIONS_AFTER_NOON'] +\n",
    "#                                     customer_train['out_PC_LOGINS'] +\n",
    "#                                     customer_train['out_WEEKLY_PLAN'] +\n",
    "#                                     customer_train['out_EARLY_DELIVERIES'] +\n",
    "#                                     customer_train['out_LATE_DELIVERIES'] +\n",
    "#                                     customer_train['out_AVG_PREP_VID_TIME'] +\n",
    "#                                     customer_train['out_LARGEST_ORDER_SIZE'] +\n",
    "#                                     customer_train['out_MASTER_CLASSES_ATTENDED'] +\n",
    "#                                     customer_train['out_MEDIAN_MEAL_RATING'] +\n",
    "#                                     customer_train['out_AVG_CLICKS_PER_VISIT'] +\n",
    "#                                     customer_train['out_TOTAL_PHOTOS_VIEWED'] +\n",
    "#                                     customer_train['tre_TOTAL_MEALS_ORDERED'] +\n",
    "#                                     customer_train['tre_UNIQUE_MEALS_PURCH'] +\n",
    "#                                     customer_train['tre_CONTACTS_W_CUSTOMER_SERVICE'] +\n",
    "#                                     customer_train['tre_CANCELLATIONS_AFTER_NOON'] +\n",
    "#                                     customer_train['tre_WEEKLY_PLAN'] +\n",
    "#                                     customer_train['tre_LATE_DELIVERIES'] +\n",
    "#                                     customer_train['tre_AVG_PREP_VID_TIME'] +\n",
    "#                                     customer_train['tre_MASTER_CLASSES_ATTENDED'] +\n",
    "#                                     customer_train['tre_MEDIAN_MEAL_RATING'] +\n",
    "#                                     customer_train['tre_TOTAL_PHOTOS_VIEWED'] +\n",
    "#                                     customer_train['junk'] +\n",
    "#                                     customer_train['personal'] +\n",
    "#                                     customer_train['professional']\n",
    "# \"\"\",\n",
    "#                                     data = customer_train)\n",
    "\n",
    "# train_result = linear_model.fit()\n",
    "# print(train_result.summary())"
   ]
  },
  {
   "cell_type": "markdown",
   "metadata": {},
   "source": [
    "### Regression Results\n",
    "\n",
    "Stat | Score |\n",
    "---|---|\n",
    " R-squared:               |        0.811\n",
    " Adj. R-squared:          |        0.803\n",
    " F-statistic:             |        101.6\n",
    " Prob (F-statistic):      |         0.00\n",
    " Log-Likelihood:          |       207.93\n",
    " AIC:                     |       -295.9\n",
    " BIC:                     |        21.28\n",
    " \n",
    " \n",
    "### First few rows\n",
    "\n",
    "Variable                                       |         coef   | std err    |      t   |   P> t  |    0.025    |  0.975|\n",
    "-----------------------------|----------------|----------------------|------------|-----------|------------|------------|\n",
    "Intercept                                          |   3.7070   |   2.002   |   1.852   |   0.064    |  -0.220   |    7.634\n",
    "customer_train['CROSS_SELL_SUCCESS']               |  -0.0238   |   0.015   |  -1.619   |   0.106    |  -0.053   |    0.005\n",
    "customer_train['TOTAL_MEALS_ORDERED']              |  -0.0040   |   0.000   |  -8.771   |   0.000    |  -0.005   |   -0.003\n",
    "customer_train['UNIQUE_MEALS_PURCH']|0.1443   |   0.009   |  16.061   |   0.000    |   0.127   |    0.162\n",
    "customer_train['CONTACTS_W_CUSTOMER_SERVICE']      |   0.0397   |   0.019   |   2.075   |   0.038   |    0.002   |    0.077\n",
    "customer_train['PRODUCT_CATEGORIES_VIEWED']        |   0.0454   |   0.016   |   2.892   |   0.004   |    0.015   |    0.076\n",
    "customer_train['AVG_TIME_PER_SITE_VISIT']          |  -0.0002   |   0.000   |  -0.591   |   0.555   |   -0.001   |    0.000\n",
    "customer_train['MOBILE_NUMBER']                   |   -0.0012   |   0.018|-0.068   |   0.946   |   -0.036    |   0.033\n",
    "customer_train['CANCELLATIONS_BEFORE_NOON']       |    0.0062   |   0.006   |   1.089   |   0.276   |   -0.005    |   0.017\n",
    "customer_train['CANCELLATIONS_AFTER_NOON']        |    0.0415   |   0.037   |   1.130   |   0.259    |  -0.031    |   0.114\n",
    "customer_train['TASTES_AND_PREFERENCES']          |    0.0119   |   0.013   |   0.946   |   0.344   |   -0.013    |   0.036\n",
    "\n",
    "\n",
    "### Overview\n",
    "Looking at this model, when we pass in all our new and old features we get a relatively high R-squared at 0.811, but we can see we have a lot of variables that have a p-value higher than 0.05. In general we want to reject variables that fall above this threshold. Lower than or equal to 0.05 mean's the variables are statistically significant for our model's performance and if we were to remove one we could significantly alter the results. However, we cannot base that if we do remove all p-value that are higher than 0.05 our model will be sound. Removing the high p-values would only give us addtional support to improve and continue to develop the model (Source: [Mcleod (2019) Simply Psychology](https://www.simplypsychology.org/p-value.html))\n",
    "\n",
    "Along with the p-values we see there are numerous coefficients with negative values. The coefficient tells us that for every unit increase in that variable the change will follow suit. For example we see 'out_CANCELLATIONS_AFTER_NOON' have a 1.8141 coefficient, since this feature is an OUTLIER feature we can determine that if there is a change in positive 1 in the CANCELLATIONS_AFTER_NOON and the change meets the threshold set for the OUTLIER the overall value of REVENUE will increase by 1.8141, therefore having a positive impact on the response variable. (Source: [Princeton](https://dss.princeton.edu/online_help/analysis/interpreting_regression.htm))\n",
    " \n",
    "## Removing p-values\n",
    "Below we will remove the flagged p-values one by one if they have a higher than 0.05 value, and run the model again. Our goal is to narrow down the features. The reason we remove one p-value at a time is because if we decided to remove all the high values simultaneously it may effect other variables. So we must remove one by one, then observe the changes, then proceed to remove - this ensures our results remain in tack and will not cause any skewed performance. (Source: [Minitab](https://blog.minitab.com/blog/understanding-statistics/three-common-p-value-mistakes-youll-never-have-to-make))."
   ]
  },
  {
   "cell_type": "code",
   "execution_count": 25,
   "metadata": {
    "code_folding": [
     0
    ],
    "scrolled": true
   },
   "outputs": [],
   "source": [
    "# # updated linear model\n",
    "# customer_train = pd.concat([X_train,y_train], axis = 1)\n",
    "\n",
    "# linear_model = smf.ols(formula = \"\"\"REVENUE ~ \n",
    "#                                     customer_train['TOTAL_MEALS_ORDERED'] +\n",
    "#                                     customer_train['UNIQUE_MEALS_PURCH'] +\n",
    "#                                     customer_train['CONTACTS_W_CUSTOMER_SERVICE'] +\n",
    "#                                     customer_train['PRODUCT_CATEGORIES_VIEWED'] +                                   \n",
    "#                                     customer_train['EARLY_DELIVERIES'] +\n",
    "#                                     customer_train['LARGEST_ORDER_SIZE'] +\n",
    "#                                     customer_train['MASTER_CLASSES_ATTENDED'] +\n",
    "#                                     customer_train['MEDIAN_MEAL_RATING'] +\n",
    "#                                     customer_train['log_TOTAL_MEALS_ORDERED'] +\n",
    "#                                     customer_train['log_UNIQUE_MEALS_PURCH'] +\n",
    "#                                     customer_train['log_PRODUCT_CATEGORIES_VIEWED'] +\n",
    "#                                     customer_train['log_AVG_PREP_VID_TIME'] +\n",
    "#                                     customer_train['log_MEDIAN_MEAL_RATING'] +\n",
    "#                                     customer_train['out_TOTAL_MEALS_ORDERED'] +\n",
    "#                                     customer_train['out_UNIQUE_MEALS_PURCH'] +\n",
    "#                                     customer_train['out_CONTACTS_W_CUSTOMER_SERVICE'] +\n",
    "#                                     customer_train['out_CANCELLATIONS_AFTER_NOON'] +\n",
    "#                                     customer_train['out_AVG_PREP_VID_TIME'] +\n",
    "#                                     customer_train['out_MASTER_CLASSES_ATTENDED'] +\n",
    "#                                     customer_train['out_MEDIAN_MEAL_RATING'] +\n",
    "#                                     customer_train['out_TOTAL_PHOTOS_VIEWED'] +\n",
    "#                                     customer_train['tre_TOTAL_MEALS_ORDERED'] +\n",
    "#                                     customer_train['tre_CONTACTS_W_CUSTOMER_SERVICE'] +\n",
    "#                                     customer_train['tre_CANCELLATIONS_AFTER_NOON'] +\n",
    "#                                     customer_train['tre_MASTER_CLASSES_ATTENDED'] +\n",
    "#                                     customer_train['tre_MEDIAN_MEAL_RATING'] +\n",
    "#                                     customer_train['junk'] +\n",
    "#                                     customer_train['personal'] +\n",
    "#                                     customer_train['professional']\n",
    "# \"\"\",\n",
    "#                                     data = customer_train)\n",
    "\n",
    "# train_result = linear_model.fit()\n",
    "# print(train_result.summary())"
   ]
  },
  {
   "cell_type": "markdown",
   "metadata": {},
   "source": [
    "### Updated Regression Results\n",
    "\n",
    "Stat | Score |\n",
    "---|---|\n",
    " R-squared:               |        0.807\n",
    " Adj. R-squared:          |        0.803\n",
    " F-statistic:             |        229.7\n",
    " Prob (F-statistic):      |         0.00\n",
    " Log-Likelihood:          |       192.03\n",
    " AIC:                     |       -330.1\n",
    " BIC:                     |        -1874.4\n",
    " \n",
    " \n",
    "### First few rows with updated p-values\n",
    "\n",
    "\n",
    "Variables                                        |            coef |   std err   |      t   |   P > t   |   0.025  |    0.975|\n",
    "-----------------------------|---|----|---|----|----|-------------------------------|\n",
    "Intercept                                           |  1.9725   |   0.113   |  17.492  |    0.000  |     1.751   |    2.194\n",
    "customer_train['TOTAL_MEALS_ORDERED']               | -0.0039   |   0.000  |   -8.641  |    0.000  |    -0.005   |   -0.003\n",
    "customer_train['UNIQUE_MEALS_PURCH']                |  0.1417   |   0.009   |  16.319  |    0.000  |     0.125   |    0.159\n",
    "customer_train['CONTACTS_W_CUSTOMER_SERVICE']       |  0.0334   |   0.004   |   8.199  |    0.000   |    0.025   |    0.041\n",
    "customer_train['PRODUCT_CATEGORIES_VIEWED']         |  0.0207   |   0.006   |   3.206  |    0.001   |    0.008   |    0.033\n",
    "customer_train['EARLY_DELIVERIES']                  | -0.0054   |   0.002   |  -2.178  |    0.030   |   -0.010   |   -0.001\n",
    "customer_train['LARGEST_ORDER_SIZE']                | -0.0393   |   0.006   |  -6.097  |    0.000   |   -0.052    |  -0.027\n",
    "customer_train['MASTER_CLASSES_ATTENDED']           | -0.2068  |    0.099   |  -2.088  |    0.037  |    -0.401    |  -0.013\n",
    "customer_train['MEDIAN_MEAL_RATING']                | -0.4338  |    0.111   |  -3.917  |   0.000    |  -0.651     | -0.217\n",
    "customer_train['log_TOTAL_MEALS_ORDERED']           |  0.4863   |   0.032   |  15.379   |   0.000   |    0.424    |   0.548\n",
    "customer_train['log_UNIQUE_MEALS_PURCH']           |  -0.6691   |   0.031   | -21.345   |   0.000|-0.731    |  -0.608\n",
    "customer_train['log_PRODUCT_CATEGORIES_VIEWED']     | -0.0868   |   0.028   |  -3.133   |   0.002    |  -0.141    |  -0.032\n",
    "\n",
    "### Overview\n",
    "We can in the first few rows above we don't have any variable which have over 0.05 so we have ensured all statistically significant variables are kept. This is important, because we will look to keep all these variables when we build the scikit models in the following steps. Scikit learn does not account high or low p-values, so this extra step is helping optimizing the data before training and testing the model."
   ]
  },
  {
   "cell_type": "markdown",
   "metadata": {},
   "source": [
    "\n",
    "----------------------------------------------------------------------\n",
    "\n",
    "# Sci Kit Learn\n",
    "\n",
    "## Train/Test Split\n",
    "As stated earlier, the company want to know how much revenue a customer will bring the company in the first year. To achieve that we will need to build a training and testing set to optimize the performance of the model. A training set, is a portion of the dataset exclusive used to training and teach a model. In comparison the test set, is used as the sample to respond to the training model's performance.\n",
    "\n",
    "Using Sci-kit learn we will split the dataset with 75% for training and 25% for testing. We will also set a seed at 222, which will allow us the ability for reproducibility of the same test/train split further down the line and for future purposes.\n",
    "\n",
    "With our dataset already prepared we also want to define the response variable \"REVENUE\" as it's out series, and have the remaining features as part of the X variables - creating a target and response variable. In order to address the spread of the REVENUE variable we will be taking the log of REVENUE."
   ]
  },
  {
   "cell_type": "code",
   "execution_count": 26,
   "metadata": {},
   "outputs": [],
   "source": [
    "#import scikit learn linear\n",
    "\n",
    "import sklearn.linear_model\n",
    "from sklearn.model_selection import train_test_split"
   ]
  },
  {
   "cell_type": "markdown",
   "metadata": {},
   "source": [
    "### Remove High p-values from Stats Model\n",
    "Given that in the Stats model step, we removed a lot of variables we want to replicate this in sci kit learn to ensure we don't have any redundant variables in the model."
   ]
  },
  {
   "cell_type": "code",
   "execution_count": 27,
   "metadata": {
    "code_folding": []
   },
   "outputs": [],
   "source": [
    "# defining x_variables that we kept from the Stats model\n",
    "\n",
    "x_variables = [           'TOTAL_MEALS_ORDERED',\n",
    "                          'UNIQUE_MEALS_PURCH',\n",
    "                          'CONTACTS_W_CUSTOMER_SERVICE',\n",
    "                          'PRODUCT_CATEGORIES_VIEWED',                                   \n",
    "                          'EARLY_DELIVERIES',\n",
    "                          'LARGEST_ORDER_SIZE',\n",
    "                          'MASTER_CLASSES_ATTENDED',\n",
    "                          'MEDIAN_MEAL_RATING',\n",
    "                          'log_TOTAL_MEALS_ORDERED',\n",
    "                          'log_UNIQUE_MEALS_PURCH',\n",
    "                          'log_PRODUCT_CATEGORIES_VIEWED',\n",
    "                          'log_AVG_PREP_VID_TIME',\n",
    "                          'log_MEDIAN_MEAL_RATING',\n",
    "                          'out_TOTAL_MEALS_ORDERED',\n",
    "                          'out_UNIQUE_MEALS_PURCH',\n",
    "                          'out_CONTACTS_W_CUSTOMER_SERVICE',\n",
    "                          'out_CANCELLATIONS_AFTER_NOON',\n",
    "                          'out_AVG_PREP_VID_TIME',\n",
    "                          'out_MASTER_CLASSES_ATTENDED',\n",
    "                          'out_MEDIAN_MEAL_RATING',\n",
    "                          'out_TOTAL_PHOTOS_VIEWED',\n",
    "                          'tre_TOTAL_MEALS_ORDERED',\n",
    "                          'tre_CONTACTS_W_CUSTOMER_SERVICE',\n",
    "                          'tre_CANCELLATIONS_AFTER_NOON',\n",
    "                          'tre_MASTER_CLASSES_ATTENDED',\n",
    "                          'tre_MEDIAN_MEAL_RATING',\n",
    "                          'junk',\n",
    "                          'personal',\n",
    "                          'professional']"
   ]
  },
  {
   "cell_type": "code",
   "execution_count": 28,
   "metadata": {},
   "outputs": [],
   "source": [
    "# drop remaining categorical variables - creating the features\n",
    "customer_data = original_df.loc[:, x_variables]\n",
    "\n",
    "# drop remaining categorical variables - creating the y variable\n",
    "customer_target = original_df[\"REVENUE\"].transform(np.log)                       \n",
    "\n",
    "# preparing training and testing sets\n",
    "X_train, X_test, y_train, y_test = train_test_split(\n",
    "            customer_data,\n",
    "            customer_target,\n",
    "            test_size = 0.25,\n",
    "            random_state = 222)"
   ]
  },
  {
   "cell_type": "markdown",
   "metadata": {},
   "source": [
    "## Models\n",
    "To get the best results I will build several models to identify which model performs the best based on the features we have created. Each model has their own benefits, so it is important to identify how small impacts effects the results.\n",
    "\n",
    "    1. Linear Regression\n",
    "    2. Ridge Regression\n",
    "    3. Lasso Regression\n",
    "    4. ARD Regression\n",
    "    5. Gradient Boosting"
   ]
  },
  {
   "cell_type": "markdown",
   "metadata": {},
   "source": [
    "##  Ordinary Least Squares (OLS)  Model\n",
    "Ordinary Least Squares regression is one of the more common practices for modeling, and it studies the relationship from the X variables and how ti affects the values y - in our case REVENUE. This model is a good starting point to see how it performs and see if there is anywhere that needs to be pivoted to obtain a higher performing model based on the features.\n",
    "\n",
    "OLS is not the only optimization strategy, it is the most popular for this kind of tasks, since the outputs of the regression (that are, coefficients) are unbiased estimators of the real values. (Source: [Alto, V. (2019) - Towards Data Science](https://towardsdatascience.com/understanding-the-ols-method-for-simple-linear-regression-e0a4e8f692cc))"
   ]
  },
  {
   "cell_type": "code",
   "execution_count": 29,
   "metadata": {
    "code_folding": [
     0
    ]
   },
   "outputs": [],
   "source": [
    "# # Create the regressor: reg_all\n",
    "# reg_all = sklearn.linear_model.LinearRegression()\n",
    "\n",
    "# # Fit the regressor to the training data\n",
    "# model = reg_all.fit(X_train, y_train)\n",
    "\n",
    "# # Predict on the test data: y_pred\n",
    "# y_pred = reg_all.predict(X_test)\n",
    "\n",
    "# # check scores\n",
    "# print('Regression Training Score:', reg_all.score(X_train, y_train).round(4))\n",
    "# print('Regression Testing Score:', reg_all.score(X_test, y_test).round(4))\n",
    "\n",
    "# regression_train = reg_all.score(X_train, y_train).round(4)\n",
    "# regression_test = reg_all.score(X_test, y_test).round(4)"
   ]
  },
  {
   "cell_type": "markdown",
   "metadata": {},
   "source": [
    "    Regression Training Score: 0.8066\n",
    "    Regression Testing Score: 0.7693"
   ]
  },
  {
   "cell_type": "markdown",
   "metadata": {},
   "source": [
    "## Ridge Model\n",
    "Ridge regression is a regression model that works to reduce the size of the coefficients, which reduces the complexity and multi-collinearity with the predictor variables. The purpose of Ridge regression is to monitor how predictor variables are correlated.\n",
    "\n",
    "The predictor variable does not reflect any inherent effect of that particular predictor on the response variable, but only a marginal or partial effect, given whatever other correlated predictor variables are included in the model. Ridge regression adds a small bias factor to the variables in order to alleviate this problem. (Source: [Stack Exchange](https://stats.stackexchange.com/questions/52653/what-is-ridge-regression))"
   ]
  },
  {
   "cell_type": "code",
   "execution_count": 30,
   "metadata": {
    "code_folding": [
     0
    ]
   },
   "outputs": [],
   "source": [
    "# # instantiatie ridge\n",
    "# ridge = sklearn.linear_model.Ridge()\n",
    "\n",
    "\n",
    "# # fit ridge\n",
    "# ridge_fit  = ridge.fit(X_train, y_train)\n",
    "\n",
    "\n",
    "# #  Predit ridge\n",
    "# ridge_pred = ridge_fit.predict(X_test)\n",
    "\n",
    "\n",
    "# print('Ridge Training Score:', ridge.score(X_train, y_train).round(4))\n",
    "# print('Ridge Testing Score:',  ridge.score(X_test, y_test).round(4))\n",
    "\n",
    "\n",
    "# # save results\n",
    "# ridge_train_score = ridge.score(X_train, y_train).round(4)\n",
    "# ridge_test_score  = ridge.score(X_test, y_test).round(4)"
   ]
  },
  {
   "cell_type": "markdown",
   "metadata": {},
   "source": [
    "    Ridge Training Score: 0.8052\n",
    "    Ridge Testing Score: 0.7648"
   ]
  },
  {
   "cell_type": "markdown",
   "metadata": {},
   "source": [
    "## Lasso Model\n",
    "Lasso regression is a regression model that helps reduce the chances of over fitting. It also is a good model technique to improve feature engineering selection and optimization. Lasso regression focuses on shrinking the variables closer to a set value for example mean. In this case the Lasso model would not be best fit, since we are already utilizing log values on some X variables and the revenue response, as a result we can expect the Lasso model to perform relatively poor. \n",
    "\n",
    "To get a better understanding on it's comparison we will run this model just to have it as a benchmark comparison value later on."
   ]
  },
  {
   "cell_type": "code",
   "execution_count": 31,
   "metadata": {
    "code_folding": [
     0
    ]
   },
   "outputs": [],
   "source": [
    "# # instantiate lasso\n",
    "# lasso = sklearn.linear_model.Lasso()\n",
    "\n",
    "# # fit lasso\n",
    "# lasso_fit = lasso.fit(X_train, y_train)\n",
    "\n",
    "\n",
    "# # predict lasso\n",
    "# lasso_pred = lasso_fit.predict(X_test)\n",
    "\n",
    "# print('Lasso Training Score:', lasso.score(X_train, y_train).round(4))\n",
    "# print('Lasso Testing Score:',  lasso.score(X_test, y_test).round(4))\n",
    "\n",
    "\n",
    "# # saving results\n",
    "# lasso_train_score = lasso.score(X_train, y_train).round(4)\n",
    "# lasso_test_score  = lasso.score(X_test, y_test).round(4)"
   ]
  },
  {
   "cell_type": "markdown",
   "metadata": {},
   "source": [
    "    Lasso Training Score: 0.3726\n",
    "    Lasso Testing Score: 0.3551"
   ]
  },
  {
   "cell_type": "markdown",
   "metadata": {},
   "source": [
    "## ARD Regression\n",
    "The ARD regression model follows a similar process to ordinary least squared regression, but shifts it's variables closer to 0. This allows it to stabilize the values and provide results that closely follow a Gaussian distribution. "
   ]
  },
  {
   "cell_type": "code",
   "execution_count": 32,
   "metadata": {
    "code_folding": [
     0
    ]
   },
   "outputs": [],
   "source": [
    "# # instantiate ARD\n",
    "# ard_model = sklearn.linear_model.ARDRegression()\n",
    "\n",
    "\n",
    "# # fit ARD\n",
    "# ard_fit = ard_model.fit(X_train, y_train.values.ravel())\n",
    "\n",
    "\n",
    "# # predict ARD\n",
    "# ard_pred = ard_fit.predict(X_test)\n",
    "\n",
    "\n",
    "# print('ARD Training Score:', ard_model.score(X_train,y_train).round(4))\n",
    "# print('ARD Testing Score:',  ard_model.score(X_test,y_test).round(4))\n",
    "\n",
    "\n",
    "# # save ard results\n",
    "# ard_train_score = ard_model.score(X_train,y_train).round(4)\n",
    "# ard_test_score  = ard_model.score(X_test,y_test).round(4)"
   ]
  },
  {
   "cell_type": "markdown",
   "metadata": {},
   "source": [
    "    ARD Training Score: 0.7949\n",
    "    ARD Testing Score: 0.7603"
   ]
  },
  {
   "cell_type": "markdown",
   "metadata": {},
   "source": [
    "# Gradient Boosting\n",
    "Gradient Boosting trains many models in a step by step process. Gradient boosting focuses on building smaller models over an over again, depending on the limits set to create one overall model. The main advantage of gradient boosting is continually test, and find ways to work around weak performing models making it more robust. Building on an iterative process helps produce an overall strong model. However this process can take longer than normal depending on how many iterations are set.\n",
    "\n",
    "<i>\"The predictive power of these individual models is weak and prone to overfitting but combining many such weak models in an ensemble will lead to an overall much improved result\"  </i> - [Elsinghorst (2018) - Shirin's Playground](https://shirinsplayground.netlify.com/2018/11/ml_basics_gbm/)"
   ]
  },
  {
   "cell_type": "code",
   "execution_count": 33,
   "metadata": {
    "code_folding": []
   },
   "outputs": [
    {
     "name": "stdout",
     "output_type": "stream",
     "text": [
      "GB Training Score: 0.838\n",
      "GB Testing Score: 0.803\n"
     ]
    }
   ],
   "source": [
    "# gradient\n",
    "from sklearn.ensemble import GradientBoostingRegressor\n",
    "from sklearn.model_selection import train_test_split, cross_val_score\n",
    "\n",
    "gb_model = sklearn.ensemble.GradientBoostingRegressor()\n",
    "\n",
    "# FITTING the training data\n",
    "gb_fit = gb_model.fit(X_train,y_train)\n",
    "\n",
    "\n",
    "# PREDICTING on new data\n",
    "gb_pred = gb_model.predict(X_test)\n",
    "\n",
    "\n",
    "# saving scoring data for future use\n",
    "gb_train_score = cross_val_score(gb_model,\n",
    "                             X_train,\n",
    "                             y_train,\n",
    "                             scoring = 'r2',\n",
    "                             cv=10,\n",
    "                             n_jobs =-1).mean().round(3)\n",
    "\n",
    "gb_test_score = cross_val_score(gb_model,\n",
    "                             X_test,\n",
    "                             y_test,\n",
    "                             scoring = 'r2',\n",
    "                             cv=10,\n",
    "                             n_jobs =-1).mean().round(3)\n",
    "\n",
    "print(f'GB Training Score: {gb_train_score}')\n",
    "print(f'GB Testing Score: {gb_test_score}')"
   ]
  },
  {
   "cell_type": "markdown",
   "metadata": {},
   "source": [
    "# Overall Regression Performance Comparison\n",
    "Now we have all our models, we want to ensure we have a side by side comparison to determine best performer."
   ]
  },
  {
   "cell_type": "code",
   "execution_count": 34,
   "metadata": {
    "code_folding": [
     0
    ]
   },
   "outputs": [],
   "source": [
    "# # comparing results\n",
    "\n",
    "# print(f\"\"\"\n",
    "# Model      Train Score      Test Score\n",
    "# -----      -----------      ----------\n",
    "# OLS        {regression_train}           {regression_test}\n",
    "# Ridge      {ridge_train_score}           {ridge_test_score}\n",
    "# Lasso      {lasso_train_score}           {lasso_test_score}\n",
    "# ARD        {ard_train_score}           {ard_test_score}\n",
    "# GB         {gb_train_score}             {gb_test_score}\n",
    "# \"\"\")\n",
    "\n",
    "\n",
    "# # creating a dictionary for model results\n",
    "# model_performance = {'Model'    : ['OLS', 'Ridge', 'Lasso','ARD', \"GB\"],\n",
    "           \n",
    "#                      'Training' : [regression_train, ridge_train_score,\n",
    "#                                    lasso_train_score, ard_train_score,\n",
    "#                                   gb_train_score],\n",
    "           \n",
    "#                      'Testing'  : [regression_test, ridge_test_score,\n",
    "#                                    lasso_test_score, ard_test_score,\n",
    "#                                   gb_test_score]}\n",
    "                                   \n",
    "\n",
    "\n",
    "# # converting model_performance into a DataFrame\n",
    "# model_performance = pd.DataFrame(model_performance)\n",
    "\n",
    "\n",
    "# # sending model results to Excel\n",
    "# model_performance.to_excel('regression_model_performance.xlsx',\n",
    "#                            index = False)"
   ]
  },
  {
   "cell_type": "markdown",
   "metadata": {},
   "source": [
    "\n",
    "Model|      Train Score    |  Test Score\n",
    "-----   |   -----------  |    ----------\n",
    "OLS      |  0.8066       |    0.7693\n",
    "Ridge    |  0.8052       |    0.7648\n",
    "Lasso     | 0.3726       |    0.3551\n",
    "ARD      |  0.7949       |    0.7603\n",
    "GB       |  0.839       |   0.802"
   ]
  },
  {
   "cell_type": "markdown",
   "metadata": {},
   "source": [
    "# K-Nearest Neighbors and Distance Standardization\n",
    "KNN algorithms use data and classify new data points based on similarity measures (e.g. distance function). Classification is done by a majority vote to its neighbors. The data is assigned to the class which has the nearest neighbors. As you increase the number of nearest neighbors, the value of k, accuracy might increase. The goal of using KNN is to find clusters of groups that meet certain characteristics. Source: [Srivastava (2019) - Analytics Vidhya](https://www.analyticsvidhya.com/blog/2018/03/introduction-k-neighbours-algorithm-clustering/)"
   ]
  },
  {
   "cell_type": "code",
   "execution_count": 35,
   "metadata": {
    "code_folding": [
     0
    ]
   },
   "outputs": [],
   "source": [
    "# # new libraries\n",
    "# from sklearn.neighbors import KNeighborsRegressor # KNN for Regression\n",
    "# from sklearn.preprocessing import StandardScaler # standard scaler\n",
    "\n",
    "\n",
    "# performance_file = \"regression_model_performance.xlsx\"\n",
    "\n",
    "# performance = pd.read_excel(performance_file)"
   ]
  },
  {
   "cell_type": "code",
   "execution_count": 36,
   "metadata": {
    "code_folding": []
   },
   "outputs": [],
   "source": [
    "# # drop remaining categorical variables - creating the features\n",
    "# customer_data = original_df.loc[:, x_variables]\n",
    "\n",
    "# # drop remaining categorical variables - creating the y variable\n",
    "# customer_target = original_df[\"REVENUE\"]                       \n",
    "\n",
    "# # preparing training and testing sets\n",
    "# X_train, X_test, y_train, y_test = train_test_split(\n",
    "#             customer_data,\n",
    "#             customer_target,\n",
    "#             test_size = 0.25,\n",
    "#             random_state = 222)"
   ]
  },
  {
   "cell_type": "markdown",
   "metadata": {},
   "source": [
    "## Standardization\n",
    "Standardization typically means rescales data to have a mean of 0 and a standard deviation of 1 (unit variance)."
   ]
  },
  {
   "cell_type": "code",
   "execution_count": 37,
   "metadata": {
    "code_folding": []
   },
   "outputs": [],
   "source": [
    "# # instantiate scaler\n",
    "# scaler = StandardScaler()\n",
    "\n",
    "# # fit it\n",
    "# scaler.fit(customer_data)\n",
    "\n",
    "# # transform data\n",
    "# X_scaled = scaler.transform(customer_data)\n",
    "\n",
    "# # convert into dataframe\n",
    "# X_scaled_df = pd.DataFrame(X_scaled)"
   ]
  },
  {
   "cell_type": "markdown",
   "metadata": {},
   "source": [
    "### Checking Results\n",
    "We can observe if our standarization process worked below by comparing the correlation of the non standardized and standardized variables below."
   ]
  },
  {
   "cell_type": "code",
   "execution_count": 38,
   "metadata": {
    "code_folding": [
     0
    ]
   },
   "outputs": [],
   "source": [
    "# # adding labels to the scaled DataFrame\n",
    "# X_scaled_df.columns = customer_data.columns\n",
    "\n",
    "# #  Checking pre- and post-scaling of the data\n",
    "# print(f\"\"\"\n",
    "# Dataset BEFORE Scaling\n",
    "# ----------------------\n",
    "# {pd.np.var(customer_data)}\n",
    "\n",
    "\n",
    "# Dataset AFTER Scaling\n",
    "# ----------------------\n",
    "# {pd.np.var(X_scaled_df)}\n",
    "# \"\"\")"
   ]
  },
  {
   "cell_type": "code",
   "execution_count": 39,
   "metadata": {
    "code_folding": [
     0
    ]
   },
   "outputs": [],
   "source": [
    "# ##############################################################################\n",
    "# # Unscaled Dataset\n",
    "# ##############################################################################\n",
    "\n",
    "# # subsetting the original dataset\n",
    "# customer_subset = customer_data.loc[ : , ['TOTAL_MEALS_ORDERED',\n",
    "#                                         'UNIQUE_MEALS_PURCH',\n",
    "#                                         'AVG_TIME_PER_SITE_VISIT',\n",
    "#                                         'WEEKLY_PLAN',\n",
    "#                                         'LARGEST_ORDER_SIZE',\n",
    "#                                         'AVG_PREP_VID_TIME']]\n",
    "\n",
    "\n",
    "# # UNSCALED correlation matrix\n",
    "# df_corr = customer_subset.corr().round(2)\n",
    "\n",
    "\n",
    "# # setting figure size and plot window\n",
    "# fig, ax = plt.subplots(figsize = (16, 16))\n",
    "# plt.subplot(1, 2, 1)\n",
    "\n",
    "\n",
    "# # heatmap of UNSCALED correlations\n",
    "# sns.heatmap(df_corr,\n",
    "#             cmap = 'coolwarm',\n",
    "#             square = True,\n",
    "#             annot = True,\n",
    "#             cbar = False) # surpressing the color bar)\n",
    "\n",
    "\n",
    "\n",
    "# ##############################################################################\n",
    "# # Scaled Dataset\n",
    "# ##############################################################################\n",
    "\n",
    "# # SCALED correlation matrix\n",
    "# df_scaled_corr = X_scaled_df.loc[ : , ['TOTAL_MEALS_ORDERED',\n",
    "#                                         'UNIQUE_MEALS_PURCH',\n",
    "#                                         'AVG_TIME_PER_SITE_VISIT',\n",
    "#                                         'WEEKLY_PLAN',\n",
    "#                                         'LARGEST_ORDER_SIZE',\n",
    "#                                         'AVG_PREP_VID_TIME']].corr().round(2)\n",
    "\n",
    "\n",
    "# # titling the plot\n",
    "# plt.title(\"BEFORE Standardization\")\n",
    "\n",
    "\n",
    "# # setting plot window\n",
    "# plt.subplot(1, 2, 2)\n",
    "\n",
    "\n",
    "# # heatmap of SCALED correlations\n",
    "# sns.heatmap(df_scaled_corr,\n",
    "#             cmap = 'coolwarm',\n",
    "#             square = True,\n",
    "#             annot = True,\n",
    "#             cbar = False) # surpressing the color bar\n",
    "\n",
    "\n",
    "# # titling the plot\n",
    "# plt.title(\"AFTER Standardization\")\n",
    "# plt.savefig('Corrplots Before and After Scaling.png')\n",
    "# plt.tight_layout()\n",
    "# plt.show()"
   ]
  },
  {
   "cell_type": "markdown",
   "metadata": {},
   "source": [
    "### Results\n",
    "During this standardization process we can see that as we check the relationship and variables, there were not mistakes and the relationships were still in tack."
   ]
  },
  {
   "cell_type": "markdown",
   "metadata": {},
   "source": [
    "## KNN with Non Standardized Data"
   ]
  },
  {
   "cell_type": "code",
   "execution_count": 40,
   "metadata": {
    "code_folding": []
   },
   "outputs": [],
   "source": [
    "# #train and test \n",
    "# X_train, X_test, y_train, y_test = train_test_split(\n",
    "#             customer_data,\n",
    "#             customer_target,\n",
    "#             test_size = 0.25,\n",
    "#             random_state = 222)"
   ]
  },
  {
   "cell_type": "code",
   "execution_count": 41,
   "metadata": {
    "code_folding": []
   },
   "outputs": [],
   "source": [
    "# # creating lists for training set accuracy and test set accuracy\n",
    "# training_accuracy = []\n",
    "# test_accuracy = []\n",
    "\n",
    "\n",
    "# # building a visualization of 1 to 50 neighbors\n",
    "# neighbors_settings = range(1, 21)\n",
    "\n",
    "\n",
    "# for n_neighbors in neighbors_settings:\n",
    "#     # Building the model\n",
    "#     clf = KNeighborsRegressor(n_neighbors = n_neighbors)\n",
    "#     clf.fit(X_train, y_train)\n",
    "    \n",
    "#     # Recording the training set accuracy\n",
    "#     training_accuracy.append(clf.score(X_train, y_train))\n",
    "    \n",
    "#     # Recording the generalization accuracy\n",
    "#     test_accuracy.append(clf.score(X_test, y_test))\n",
    "\n",
    "\n",
    "# # plotting the visualization\n",
    "# fig, ax = plt.subplots(figsize=(12,8))\n",
    "# plt.plot(neighbors_settings, training_accuracy, label = \"training accuracy\")\n",
    "# plt.plot(neighbors_settings, test_accuracy, label = \"test accuracy\")\n",
    "# plt.ylabel(\"Accuracy\")\n",
    "# plt.xlabel(\"n_neighbors\")\n",
    "# plt.legend()\n",
    "# plt.show()\n",
    "\n",
    "\n",
    "# # finding the optimal number of neighbors\n",
    "# non_stand_opt_neighbors = test_accuracy.index(max(test_accuracy)) + 1\n",
    "# print(f\"\"\"The optimal number of neighbors is {non_stand_opt_neighbors}\"\"\")"
   ]
  },
  {
   "cell_type": "markdown",
   "metadata": {},
   "source": [
    "### Performance"
   ]
  },
  {
   "cell_type": "code",
   "execution_count": 42,
   "metadata": {
    "code_folding": [
     0
    ]
   },
   "outputs": [],
   "source": [
    "# # INSTANTIATING a model with the optimal number of neighbors\n",
    "# knn_non_stand = KNeighborsRegressor(algorithm = 'auto',\n",
    "#                    n_neighbors = non_stand_opt_neighbors)\n",
    "\n",
    "\n",
    "# # FITTING the model based on the training data\n",
    "# knn_non_stand.fit(X_train, y_train)\n",
    "\n",
    "\n",
    "# # PREDITCING on new data\n",
    "# knn_non_stand_pred = knn_non_stand.predict(X_test)\n",
    "\n",
    "\n",
    "# # SCORING the results\n",
    "# print('Training Score:', knn_non_stand.score(X_train, y_train).round(4))\n",
    "# print('Testing Score:',  knn_non_stand.score(X_test, y_test).round(4))\n",
    "\n",
    "\n",
    "# # saving scoring data for future use\n",
    "# knn_non_stand_score_train = knn_non_stand.score(X_train, y_train).round(4)\n",
    "# knn_non_stand_score_test  = knn_non_stand.score(X_test, y_test).round(4)"
   ]
  },
  {
   "cell_type": "markdown",
   "metadata": {},
   "source": [
    "        Training Score: 0.6204\n",
    "        Testing Score: 0.4883\n",
    "\n",
    "        The optimal number of neighbors is 9"
   ]
  },
  {
   "cell_type": "markdown",
   "metadata": {},
   "source": [
    "## KNN with Standardized Data\n",
    "Now we want to create a new train and test set using the scaled variables we build earlier and test the performance of the model."
   ]
  },
  {
   "cell_type": "code",
   "execution_count": 43,
   "metadata": {
    "code_folding": []
   },
   "outputs": [],
   "source": [
    "# # new trainining set\n",
    "# X_train, X_test, y_train, y_test= train_test_split(\n",
    "#             X_scaled_df,\n",
    "#             customer_target,\n",
    "#             test_size = 0.25,\n",
    "#             random_state = 222)"
   ]
  },
  {
   "cell_type": "code",
   "execution_count": 44,
   "metadata": {
    "code_folding": []
   },
   "outputs": [],
   "source": [
    "# # creating lists for training set accuracy and test set accuracy\n",
    "# training_accuracy = []\n",
    "# test_accuracy = []\n",
    "\n",
    "\n",
    "# # building a visualization of 1 to 50 neighbors\n",
    "# neighbors_settings = range(1, 21)\n",
    "\n",
    "\n",
    "# for n_neighbors in neighbors_settings:\n",
    "#     # Building the model\n",
    "#     clf = KNeighborsRegressor(n_neighbors = n_neighbors)\n",
    "#     clf.fit(X_train, y_train)\n",
    "    \n",
    "#     # Recording the training set accuracy\n",
    "#     training_accuracy.append(clf.score(X_train, y_train))\n",
    "    \n",
    "#     # Recording the generalization accuracy\n",
    "#     test_accuracy.append(clf.score(X_test, y_test))\n",
    "\n",
    "\n",
    "# # plotting the visualization\n",
    "# fig, ax = plt.subplots(figsize=(12,8))\n",
    "# plt.plot(neighbors_settings, training_accuracy, label = \"training accuracy\")\n",
    "# plt.plot(neighbors_settings, test_accuracy, label = \"test accuracy\")\n",
    "# plt.ylabel(\"Accuracy\")\n",
    "# plt.xlabel(\"n_neighbors\")\n",
    "# plt.legend()\n",
    "# plt.show()\n",
    "\n",
    "\n",
    "# # finding the optimal number of neighbors\n",
    "# stan_opt_neighbors = test_accuracy.index(max(test_accuracy)) + 1\n",
    "# print(f\"\"\"The optimal number of neighbors is {stan_opt_neighbors}\"\"\")"
   ]
  },
  {
   "cell_type": "markdown",
   "metadata": {},
   "source": [
    "### Performance"
   ]
  },
  {
   "cell_type": "code",
   "execution_count": 45,
   "metadata": {
    "code_folding": [
     0
    ]
   },
   "outputs": [],
   "source": [
    "# # INSTANTIATING a model with the optimal number of neighbors\n",
    "# knn_stand = KNeighborsRegressor(algorithm = 'auto',\n",
    "#                    n_neighbors = stan_opt_neighbors)\n",
    "\n",
    "\n",
    "# # FITTING the model based on the training data\n",
    "# knn_stand.fit(X_train, y_train)\n",
    "\n",
    "\n",
    "# # PREDITCING on new data\n",
    "# knn_stand_pred = knn_stand.predict(X_test)\n",
    "\n",
    "\n",
    "# # SCORING the results\n",
    "# print('Training Score:', knn_stand.score(X_train, y_train).round(4))\n",
    "# print('Testing Score:',  knn_stand.score(X_test, y_test).round(4))\n",
    "\n",
    "\n",
    "# # saving scoring data for future use\n",
    "# knn_stand_score_train = knn_stand.score(X_train, y_train).round(4)\n",
    "# knn_stand_score_test  = knn_stand.score(X_test, y_test).round(4)"
   ]
  },
  {
   "cell_type": "markdown",
   "metadata": {},
   "source": [
    "    Training Score: 0.6919\n",
    "    Testing Score: 0.5851\n",
    "    \n",
    "    The optimal number of neighbors is 20"
   ]
  },
  {
   "cell_type": "markdown",
   "metadata": {},
   "source": [
    "## Overall KNN Performance"
   ]
  },
  {
   "cell_type": "code",
   "execution_count": 46,
   "metadata": {
    "code_folding": [
     0
    ]
   },
   "outputs": [],
   "source": [
    "# # comparing results\n",
    "\n",
    "# print(f\"\"\"\n",
    "# KNN Model             Neighbors     Train Score      Test Score\n",
    "# ----------------      ---------     ----------       ----------\n",
    "# Non-Standardized      {non_stand_opt_neighbors}              {knn_non_stand_score_train}           {knn_non_stand_score_test}\n",
    "# Standardized          {stan_opt_neighbors}              {knn_stand_score_train}           {knn_stand_score_test}\n",
    "# \"\"\")\n",
    "\n",
    "\n",
    "# # creating a dictionary for model results\n",
    "# knn_model_performance = {'Model'    : [f'KNN_NS_{non_stand_opt_neighbors}', f'KNN_S_{stan_opt_neighbors}'],\n",
    "           \n",
    "#                      'Training' : [knn_non_stand_score_train, knn_stand_score_train],\n",
    "           \n",
    "#                      'Testing'  : [knn_non_stand_score_test, knn_stand_score_test]}"
   ]
  },
  {
   "cell_type": "markdown",
   "metadata": {},
   "source": [
    "\n",
    "KNN Model          |   Neighbors  |   Train Score   |   Test Score|\n",
    "----------------    |  ---------   |  ----------     |  ----------|\n",
    "Non-Standardized   |   9          |    0.6204       |   0.4883\n",
    "Standardized       |   20        |      0.6919       |    0.5851"
   ]
  },
  {
   "cell_type": "markdown",
   "metadata": {},
   "source": [
    "We can observe from the results that the standardized data requires more more neighbors to obtain a stronger model performance. However just glancing at these scores we already know that the KNN model is performing poorly and we will likely not use this further in the process.\n",
    "\n",
    "\n",
    "----------------------------------------------------------"
   ]
  },
  {
   "cell_type": "markdown",
   "metadata": {},
   "source": [
    "# 4. Model Performance\n",
    "Merging results from all the models done in the entire project."
   ]
  },
  {
   "cell_type": "code",
   "execution_count": 47,
   "metadata": {
    "code_folding": [
     0
    ]
   },
   "outputs": [],
   "source": [
    "# # converting model_performance into a DataFrame\n",
    "# knn_model_performance = pd.DataFrame(knn_model_performance)\n",
    "\n",
    "\n",
    "# # concatenating with former performance DataFrame\n",
    "# total_performance = pd.concat([performance, knn_model_performance],\n",
    "#                               axis = 0)\n",
    "\n",
    "\n",
    "# total_performance.sort_values(by = 'Testing',\n",
    "#                               ascending = False)\n",
    "\n",
    "\n",
    "# # sending model results to Excel\n",
    "# total_performance.to_excel('all_model_performance.xlsx',\n",
    "#                            index = False)"
   ]
  },
  {
   "cell_type": "code",
   "execution_count": 48,
   "metadata": {
    "code_folding": [
     0
    ]
   },
   "outputs": [],
   "source": [
    "# file = 'all_model_performance.xlsx'\n",
    "\n",
    "# overall_performance = pd.read_excel(file)\n",
    "\n",
    "# overall_performance"
   ]
  },
  {
   "cell_type": "markdown",
   "metadata": {},
   "source": [
    "\n",
    "Model|      Train Score    |  Test Score\n",
    "-----   |   -----------  |    ----------\n",
    "OLS      |  0.8066       |    0.7693\n",
    "Ridge    |  0.8052       |    0.7648\n",
    "Lasso     | 0.3726       |    0.3551\n",
    "ARD      |  0.7949       |    0.7603\n",
    "GB       |  0.839       |   0.802\n",
    "KNN_NS_9 | 0.6204  | 0.4883\n",
    "KNN_S_20 | 0.6919   | 0.5851\n",
    "\n",
    "\n",
    "## Model Overview\n",
    "For our results we can see the the best overall performing model is our Gradient Boosting with a testing set score of,\n",
    "\n",
    "    •    Gradient Boosting Test Score of 0.802\n",
    "\n",
    "As expected the Lasso model performed very poorly due to us already utilizing log variables, which would effect the results. We can see that the KNN models for both performed poorly. It is interesting to see that the KNN model with standardized variables perfomed almost 0.1 better than the KNN without standardized data. With this information we could test out different variations of parameter and feature tuning to try get this model competing with the other regression models.Overall the OLS, Ridge and ARD regression model all came close of one another, paving the way for more opportunities to develop features that would suit their respective model. \n",
    "\n",
    "Using Gradient Boosting, we were able to pass in a number for the CV argument allowing more iterations to be tested. After running this model with different variations of CV, the final number 10 deemed to be the most optimal to maintain a model run time of under 1 minute. Adjusting this further would require more computational power and may delay the performance. \n",
    "\n",
    "\n",
    "--------------------------------------------------------------"
   ]
  },
  {
   "cell_type": "markdown",
   "metadata": {},
   "source": [
    "# 5. Project Overview\n",
    "\n",
    "## Insight #1\n",
    "We can see that a great metric for improving revenue was how much time a user spent watching videos. Through the analysis, there is a pattern when more time is spent viewing and learning how to prepare the meals, and it would also affect the amount of revenue a customer would bring into the company. Studying customer engagement and viewing how they respond to the video content will provide two avenues for growth - increased revenue and better user experience. They can assess the demand for the videos and cater to more personalized video solutions for their audience.\n",
    "\n",
    "## Insight #2\n",
    "Looking at a possible influence of the churn rate for the Apprentice customers, we can observe that when customers contact the support team, there is initially a positive association with revenue. However, we see there is a drastic shift in the relationship. When a customer spends more time contacting support, their revenue has a negative relationship. Increased contacts for support is most likely due to errors in the orders or a bad user experience, which is prompting users to reach out. We see the trigger point around ten contacts with the support team. A good strategy would be to monitor the frequency of users communicating to make sure to mitigate and manage possible mishaps before they happen.\n",
    "\n",
    "\n",
    "## Recommendation\n",
    "My recommendation would be to expand its customer acquisition channels and improve revenue by introducing enhanced and unique video prepping sessions. Using their current strategy but expanding to unique demographics, cuisines, and time frames. An idea could be providing themed meal video preps throughout the week, for example, \"Thai food Tuesday,\" \"Mexican Monday,\" etc. Creating mini-series of food prep videos will stimulate interest and engagement within their community. Increasing video prep and tutorials will also potentially help reduce contacts with customer support. Assuming that the current issues with the support team are related to food prep or techniques, the video can help address this and essentially kill two birds with one stone. Continuing the focus on videos, easy \"how to get started\" tutorials in how to operate the service and set up the first few orders is always great to simplify the user experience and provide as much support before any issues from occurring.\n",
    "\n",
    "\n",
    "----------------------------------------------------------------\n",
    "\n",
    "# 6. Sources\n",
    "1. Datacamp, (Tutorial) Handling Categorical Data in Python. (n.d.). Retrieved March 7, 2020, from https://www.datacamp.com/community/tutorials/categorical-data\n",
    "2. DataRobot, Feature Engineering for Automated Machine Learning: Dataset Features. (n.d.). Retrieved March 7, 2020, from https://www.datarobot.com/wiki/feature-engineering/\n",
    "3. Alto, V. (2019, August 17). Understanding the OLS method for Simple Linear Regression. Retrieved from https://towardsdatascience.com/understanding-the-ols-method-for-simple-linear-regression-e0a4e8f692cc\n",
    "4. Brownlee, J. (2019, December 26). Discover Feature Engineering, How to Engineer Features and How to Get Good at It. Retrieved from https://machinelearningmastery.com/discover-feature-engineering-how-to-engineer-features-and-how-to-get-good-at-it/\n",
    "5. Elsinghorst, S. (2018, November 29). Machine - - - Learning Basics - Gradient Boosting & XGBoost. Retrieved from https://shirinsplayground.netlify.com/2018/11/ml_basics_gbm/Feature\n",
    "6. Mcleod, S. (2019, May 20). P-values and statistical significance. Retrieved from https://www.simplypsychology.org/p-value.html\n",
    "7. Princeton, DSS - Interpreting Regression Output. (n.d.). Retrieved from https://dss.princeton.edu/online_help/analysis/interpreting_regression.htm\n",
    "\n",
    "8. Rençberoğlu, E. (2019, April 1). Fundamental Techniques of Feature Engineering for Machine Learning. Retrieved from https://towardsdatascience.com/feature-engineering-for-machine-learning-3a5e293a5114\n",
    "9. Srivastava, T. (2019, September 3). Introduction to KNN, K-Nearest Neighbors : Simplified. Retrieved from https://www.analyticsvidhya.com/blog/2018/03/introduction-k-neighbours-algorithm-clustering\n",
    "10. Three Common P-Value Mistakes You'll Never Have to Make. (n.d.). Retrieved from https://blog.minitab.com/blog/understanding-statistics/three-common-p-value-mistakes-youll-never-have-to-make"
   ]
  },
  {
   "cell_type": "code",
   "execution_count": null,
   "metadata": {},
   "outputs": [],
   "source": []
  }
 ],
 "metadata": {
  "kernelspec": {
   "display_name": "Python 3",
   "language": "python",
   "name": "python3"
  },
  "language_info": {
   "codemirror_mode": {
    "name": "ipython",
    "version": 3
   },
   "file_extension": ".py",
   "mimetype": "text/x-python",
   "name": "python",
   "nbconvert_exporter": "python",
   "pygments_lexer": "ipython3",
   "version": "3.7.6"
  },
  "toc": {
   "base_numbering": 1,
   "nav_menu": {},
   "number_sections": false,
   "sideBar": true,
   "skip_h1_title": false,
   "title_cell": "Table of Contents",
   "title_sidebar": "Contents",
   "toc_cell": false,
   "toc_position": {},
   "toc_section_display": true,
   "toc_window_display": false
  },
  "varInspector": {
   "cols": {
    "lenName": 16,
    "lenType": 16,
    "lenVar": 40
   },
   "kernels_config": {
    "python": {
     "delete_cmd_postfix": "",
     "delete_cmd_prefix": "del ",
     "library": "var_list.py",
     "varRefreshCmd": "print(var_dic_list())"
    },
    "r": {
     "delete_cmd_postfix": ") ",
     "delete_cmd_prefix": "rm(",
     "library": "var_list.r",
     "varRefreshCmd": "cat(var_dic_list()) "
    }
   },
   "types_to_exclude": [
    "module",
    "function",
    "builtin_function_or_method",
    "instance",
    "_Feature"
   ],
   "window_display": false
  }
 },
 "nbformat": 4,
 "nbformat_minor": 2
}
